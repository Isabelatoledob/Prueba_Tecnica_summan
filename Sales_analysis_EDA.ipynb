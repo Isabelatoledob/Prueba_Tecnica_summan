{
 "cells": [
  {
   "cell_type": "markdown",
   "metadata": {},
   "source": [
    "## **Análisis Exploratorio de Datos (EDA): Negocio de Ventas**"
   ]
  },
  {
   "cell_type": "markdown",
   "metadata": {},
   "source": [
    "### Autor: Isabela Toledo Balcázar"
   ]
  },
  {
   "cell_type": "markdown",
   "metadata": {},
   "source": [
    "### Marzo 2024"
   ]
  },
  {
   "cell_type": "markdown",
   "metadata": {},
   "source": [
    "### A) Tabla \"Sales\""
   ]
  },
  {
   "cell_type": "code",
   "execution_count": 62,
   "metadata": {},
   "outputs": [],
   "source": [
    "# Importar librerias necesarias\n",
    "import openpyxl\n",
    "import pandas as pd\n",
    "import numpy as np"
   ]
  },
  {
   "cell_type": "markdown",
   "metadata": {},
   "source": [
    "1. Carga de datos"
   ]
  },
  {
   "cell_type": "code",
   "execution_count": 2,
   "metadata": {},
   "outputs": [],
   "source": [
    "# Cargar datos a un Dataframe\n",
    "dataset_path = \"202403-Summan-PruebaTécnica-AnalistaDatos.xlsx\"\n",
    "df = pd.read_excel(dataset_path)"
   ]
  },
  {
   "cell_type": "markdown",
   "metadata": {},
   "source": [
    "2. Exploración inicial"
   ]
  },
  {
   "cell_type": "code",
   "execution_count": 3,
   "metadata": {},
   "outputs": [
    {
     "data": {
      "text/html": [
       "<div>\n",
       "<style scoped>\n",
       "    .dataframe tbody tr th:only-of-type {\n",
       "        vertical-align: middle;\n",
       "    }\n",
       "\n",
       "    .dataframe tbody tr th {\n",
       "        vertical-align: top;\n",
       "    }\n",
       "\n",
       "    .dataframe thead th {\n",
       "        text-align: right;\n",
       "    }\n",
       "</style>\n",
       "<table border=\"1\" class=\"dataframe\">\n",
       "  <thead>\n",
       "    <tr style=\"text-align: right;\">\n",
       "      <th></th>\n",
       "      <th>Row_ID</th>\n",
       "      <th>Order_ID</th>\n",
       "      <th>Order_Date</th>\n",
       "      <th>Ship_Date</th>\n",
       "      <th>Ship_Mode</th>\n",
       "      <th>Customer_ID</th>\n",
       "      <th>Country/Region</th>\n",
       "      <th>City</th>\n",
       "      <th>State/Province</th>\n",
       "      <th>Postal_Code</th>\n",
       "      <th>Region</th>\n",
       "      <th>Product_ID</th>\n",
       "      <th>Sales</th>\n",
       "      <th>Quantity</th>\n",
       "      <th>Discount</th>\n",
       "      <th>Profit</th>\n",
       "    </tr>\n",
       "  </thead>\n",
       "  <tbody>\n",
       "    <tr>\n",
       "      <th>0</th>\n",
       "      <td>1</td>\n",
       "      <td>US-2020-103800</td>\n",
       "      <td>2020-01-03</td>\n",
       "      <td>2020-01-07</td>\n",
       "      <td>Standard Class</td>\n",
       "      <td>DP-13000</td>\n",
       "      <td>United States</td>\n",
       "      <td>Houston</td>\n",
       "      <td>Texas</td>\n",
       "      <td>77095</td>\n",
       "      <td>Central</td>\n",
       "      <td>OFF-PA-10000174</td>\n",
       "      <td>16.448</td>\n",
       "      <td>2</td>\n",
       "      <td>0.2</td>\n",
       "      <td>5.5512</td>\n",
       "    </tr>\n",
       "    <tr>\n",
       "      <th>1</th>\n",
       "      <td>2</td>\n",
       "      <td>US-2020-112326</td>\n",
       "      <td>2020-01-04</td>\n",
       "      <td>2020-01-08</td>\n",
       "      <td>Standard Class</td>\n",
       "      <td>PO-19195</td>\n",
       "      <td>United States</td>\n",
       "      <td>Naperville</td>\n",
       "      <td>Illinois</td>\n",
       "      <td>60540</td>\n",
       "      <td>Central</td>\n",
       "      <td>OFF-BI-10004094</td>\n",
       "      <td>3.54</td>\n",
       "      <td>2</td>\n",
       "      <td>0.8</td>\n",
       "      <td>-5.487</td>\n",
       "    </tr>\n",
       "    <tr>\n",
       "      <th>2</th>\n",
       "      <td>3</td>\n",
       "      <td>US-2020-112326</td>\n",
       "      <td>2020-01-04</td>\n",
       "      <td>2020-01-08</td>\n",
       "      <td>Standard Class</td>\n",
       "      <td>PO-19195</td>\n",
       "      <td>United States</td>\n",
       "      <td>Naperville</td>\n",
       "      <td>Illinois</td>\n",
       "      <td>60540</td>\n",
       "      <td>Central</td>\n",
       "      <td>OFF-LA-10003223</td>\n",
       "      <td>11.784</td>\n",
       "      <td>3</td>\n",
       "      <td>0.2</td>\n",
       "      <td>4.2717</td>\n",
       "    </tr>\n",
       "    <tr>\n",
       "      <th>3</th>\n",
       "      <td>4</td>\n",
       "      <td>US-2020-112326</td>\n",
       "      <td>2020-01-04</td>\n",
       "      <td>2020-01-08</td>\n",
       "      <td>Standard Class</td>\n",
       "      <td>PO-19195</td>\n",
       "      <td>United States</td>\n",
       "      <td>Naperville</td>\n",
       "      <td>Illinois</td>\n",
       "      <td>60540</td>\n",
       "      <td>Central</td>\n",
       "      <td>OFF-ST-10002743</td>\n",
       "      <td>272.736</td>\n",
       "      <td>3</td>\n",
       "      <td>0.2</td>\n",
       "      <td>-64.7748</td>\n",
       "    </tr>\n",
       "    <tr>\n",
       "      <th>4</th>\n",
       "      <td>5</td>\n",
       "      <td>US-2020-141817</td>\n",
       "      <td>2020-01-05</td>\n",
       "      <td>2020-01-12</td>\n",
       "      <td>Standard Class</td>\n",
       "      <td>MB-18085</td>\n",
       "      <td>United States</td>\n",
       "      <td>Philadelphia</td>\n",
       "      <td>Pennsylvania</td>\n",
       "      <td>19143</td>\n",
       "      <td>East</td>\n",
       "      <td>OFF-AR-10003478</td>\n",
       "      <td>19.536</td>\n",
       "      <td>3</td>\n",
       "      <td>0.2</td>\n",
       "      <td>4.884</td>\n",
       "    </tr>\n",
       "  </tbody>\n",
       "</table>\n",
       "</div>"
      ],
      "text/plain": [
       "   Row_ID        Order_ID Order_Date  Ship_Date       Ship_Mode Customer_ID  \\\n",
       "0       1  US-2020-103800 2020-01-03 2020-01-07  Standard Class    DP-13000   \n",
       "1       2  US-2020-112326 2020-01-04 2020-01-08  Standard Class    PO-19195   \n",
       "2       3  US-2020-112326 2020-01-04 2020-01-08  Standard Class    PO-19195   \n",
       "3       4  US-2020-112326 2020-01-04 2020-01-08  Standard Class    PO-19195   \n",
       "4       5  US-2020-141817 2020-01-05 2020-01-12  Standard Class    MB-18085   \n",
       "\n",
       "  Country/Region          City State/Province Postal_Code   Region  \\\n",
       "0  United States       Houston          Texas       77095  Central   \n",
       "1  United States    Naperville       Illinois       60540  Central   \n",
       "2  United States    Naperville       Illinois       60540  Central   \n",
       "3  United States    Naperville       Illinois       60540  Central   \n",
       "4  United States  Philadelphia   Pennsylvania       19143     East   \n",
       "\n",
       "        Product_ID    Sales  Quantity  Discount   Profit  \n",
       "0  OFF-PA-10000174   16.448         2       0.2   5.5512  \n",
       "1  OFF-BI-10004094     3.54         2       0.8   -5.487  \n",
       "2  OFF-LA-10003223   11.784         3       0.2   4.2717  \n",
       "3  OFF-ST-10002743  272.736         3       0.2 -64.7748  \n",
       "4  OFF-AR-10003478   19.536         3       0.2    4.884  "
      ]
     },
     "execution_count": 3,
     "metadata": {},
     "output_type": "execute_result"
    }
   ],
   "source": [
    "# Inspeccionar el dataset\n",
    "df.head()"
   ]
  },
  {
   "cell_type": "code",
   "execution_count": 5,
   "metadata": {},
   "outputs": [
    {
     "name": "stdout",
     "output_type": "stream",
     "text": [
      "<class 'pandas.core.frame.DataFrame'>\n",
      "RangeIndex: 11742 entries, 0 to 11741\n",
      "Data columns (total 16 columns):\n",
      " #   Column          Non-Null Count  Dtype         \n",
      "---  ------          --------------  -----         \n",
      " 0   Row_ID          11742 non-null  int64         \n",
      " 1   Order_ID        11742 non-null  object        \n",
      " 2   Order_Date      11742 non-null  datetime64[ns]\n",
      " 3   Ship_Date       11742 non-null  datetime64[ns]\n",
      " 4   Ship_Mode       11742 non-null  object        \n",
      " 5   Customer_ID     11742 non-null  object        \n",
      " 6   Country/Region  11671 non-null  object        \n",
      " 7   City            11742 non-null  object        \n",
      " 8   State/Province  11742 non-null  object        \n",
      " 9   Postal_Code     11742 non-null  object        \n",
      " 10  Region          11742 non-null  object        \n",
      " 11  Product_ID      11742 non-null  object        \n",
      " 12  Sales           11742 non-null  object        \n",
      " 13  Quantity        11742 non-null  int64         \n",
      " 14  Discount        11742 non-null  float64       \n",
      " 15  Profit          11742 non-null  object        \n",
      "dtypes: datetime64[ns](2), float64(1), int64(2), object(11)\n",
      "memory usage: 1.4+ MB\n"
     ]
    }
   ],
   "source": [
    "# Obtener descripción de la estructura e información básica del contenido del DataFrame\n",
    "df.info()"
   ]
  },
  {
   "cell_type": "markdown",
   "metadata": {},
   "source": [
    "* El dataset tiene 11742 filas y 16 columnas\n",
    "* Se observa inicialmente que hay datos nulos en la columna \"Country/Region\"\n",
    "* Columnas como \"Sales\" y \"Profit\" deberían ser de tipo numérico"
   ]
  },
  {
   "cell_type": "markdown",
   "metadata": {},
   "source": [
    "3. Limpieza de datos"
   ]
  },
  {
   "cell_type": "markdown",
   "metadata": {},
   "source": [
    "* Remover duplicados"
   ]
  },
  {
   "cell_type": "code",
   "execution_count": 6,
   "metadata": {},
   "outputs": [
    {
     "name": "stdout",
     "output_type": "stream",
     "text": [
      "Filas duplicadas: 1547\n"
     ]
    }
   ],
   "source": [
    "# Chequear si hay valores duplicados\n",
    "print(\"Filas duplicadas:\", df.duplicated().sum())"
   ]
  },
  {
   "cell_type": "code",
   "execution_count": 7,
   "metadata": {},
   "outputs": [
    {
     "name": "stdout",
     "output_type": "stream",
     "text": [
      "Filas duplicadas: 0\n"
     ]
    },
    {
     "data": {
      "text/plain": [
       "(10195, 16)"
      ]
     },
     "execution_count": 7,
     "metadata": {},
     "output_type": "execute_result"
    }
   ],
   "source": [
    "# Remover duplicados\n",
    "df.drop_duplicates(inplace=True)\n",
    "print('Filas duplicadas:', df.duplicated().sum())\n",
    "df.shape"
   ]
  },
  {
   "cell_type": "markdown",
   "metadata": {},
   "source": [
    "* Manejo de datos faltantes"
   ]
  },
  {
   "cell_type": "code",
   "execution_count": 8,
   "metadata": {},
   "outputs": [
    {
     "data": {
      "text/plain": [
       "Country/Region    63\n",
       "Row_ID             0\n",
       "Order_ID           0\n",
       "Order_Date         0\n",
       "Ship_Date          0\n",
       "Ship_Mode          0\n",
       "Customer_ID        0\n",
       "City               0\n",
       "State/Province     0\n",
       "Postal_Code        0\n",
       "Region             0\n",
       "Product_ID         0\n",
       "Sales              0\n",
       "Quantity           0\n",
       "Discount           0\n",
       "Profit             0\n",
       "dtype: int64"
      ]
     },
     "execution_count": 8,
     "metadata": {},
     "output_type": "execute_result"
    }
   ],
   "source": [
    "# Chequear si hay valores faltantes\n",
    "df.isnull().sum().sort_values(ascending = False)"
   ]
  },
  {
   "cell_type": "code",
   "execution_count": 9,
   "metadata": {},
   "outputs": [
    {
     "name": "stdout",
     "output_type": "stream",
     "text": [
      "      Country/Region        Order_ID\n",
      "68               NaN  US-2020-110422\n",
      "318              NaN  US-2020-101770\n",
      "392              NaN  US-2020-102715\n",
      "393              NaN  US-2020-102715\n",
      "395              NaN  US-2020-102715\n",
      "...              ...             ...\n",
      "10196            NaN  US-2023-144694\n",
      "10206            NaN  US-2023-144694\n",
      "10723            NaN  US-2023-161130\n",
      "11196            NaN  US-2023-148768\n",
      "11252            NaN  US-2023-164917\n",
      "\n",
      "[63 rows x 2 columns]\n"
     ]
    }
   ],
   "source": [
    "# Extraigo un subset del df para ver las filas nulas de la columna \"Country/Region\" más su correspondiente ciudad\n",
    "# Para llenar valores faltantes de acuerdo a los valores de la columna \"Order_ID\"\n",
    "filas_pais_nulo = df[df[\"Country/Region\"].isnull()]\n",
    "subset_df = filas_pais_nulo[[\"Country/Region\", \"Order_ID\"]]\n",
    "print(subset_df)"
   ]
  },
  {
   "cell_type": "code",
   "execution_count": 10,
   "metadata": {},
   "outputs": [
    {
     "name": "stdout",
     "output_type": "stream",
     "text": [
      "valores correspondientes de columna Order ID: ['US-2020-110422' 'US-2020-101770' 'US-2020-102715' 'US-2020-156244'\n",
      " 'US-2020-130918' 'US-2020-169775' 'US-2020-107573' 'US-2020-113166'\n",
      " 'US-2021-143532' 'US-2021-103793' 'US-2021-101868' 'US-2021-147011'\n",
      " 'US-2021-162761' 'US-2021-105571' 'US-2021-136147' 'US-2021-163965'\n",
      " 'US-2021-141754' 'US-2022-122518' 'US-2022-169103' 'US-2022-160598'\n",
      " 'US-2022-142902' 'US-2022-153318' 'US-2022-165827' 'US-2022-158309'\n",
      " 'US-2022-135209' 'US-2023-148999' 'US-2023-161851' 'US-2023-151218'\n",
      " 'US-2023-133781' 'US-2023-148810' 'US-2023-152492' 'US-2023-146878'\n",
      " 'US-2023-121314' 'US-2023-144694' 'US-2023-161130' 'US-2023-148768'\n",
      " 'US-2023-164917']\n"
     ]
    }
   ],
   "source": [
    "#Hallo cuales son los valores unicos de Order_ID\n",
    "#Si Order_ID empieza con 'US-' la orden fue en Estados unidos, si empieza con 'CA-' fue en Canada\n",
    "valores_unicos_ORDERID = subset_df[\"Order_ID\"].unique()\n",
    "print(\"valores correspondientes de columna Order ID:\", valores_unicos_ORDERID)"
   ]
  },
  {
   "cell_type": "code",
   "execution_count": 11,
   "metadata": {},
   "outputs": [
    {
     "name": "stdout",
     "output_type": "stream",
     "text": [
      "Valores nulos en la columna Country/Region: 0\n"
     ]
    },
    {
     "name": "stderr",
     "output_type": "stream",
     "text": [
      "C:\\Users\\DELL\\AppData\\Local\\Temp\\ipykernel_2464\\760924328.py:3: FutureWarning: A value is trying to be set on a copy of a DataFrame or Series through chained assignment using an inplace method.\n",
      "The behavior will change in pandas 3.0. This inplace method will never work because the intermediate object on which we are setting values always behaves as a copy.\n",
      "\n",
      "For example, when doing 'df[col].method(value, inplace=True)', try using 'df.method({col: value}, inplace=True)' or df[col] = df[col].method(value) instead, to perform the operation inplace on the original object.\n",
      "\n",
      "\n",
      "  df[\"Country/Region\"].fillna(\"United States\", inplace=True)\n"
     ]
    }
   ],
   "source": [
    "#Lleno los valores faltantes de la columna \"Country/Region\" con \"United States\" porque se comprobró con el Order ID que\n",
    "#todos los datos faltantes correspondian a ordenes de Estados Unidos\n",
    "df[\"Country/Region\"].fillna(\"United States\", inplace=True)\n",
    "print(\"Valores nulos en la columna Country/Region:\", df[\"Country/Region\"].isnull().sum())"
   ]
  },
  {
   "cell_type": "markdown",
   "metadata": {},
   "source": [
    "* Dar formato adecuado a las columnas que lo requieren"
   ]
  },
  {
   "cell_type": "markdown",
   "metadata": {},
   "source": [
    "Damos formato numerico a las columnas correspondientes:\n",
    "\n",
    "df[\"Sales\"] = df[\"Sales\"].astype(float)\n",
    "\n",
    "df[\"Profit\"] = df[\"Profit\"].astype(float)\n",
    "\n",
    "Sin embargo, se encontraron errores al ejecutar esas lineas de código, lo cual sugiere que hay datos no numéricos en esas columnas y deben ser corregidos."
   ]
  },
  {
   "cell_type": "code",
   "execution_count": 12,
   "metadata": {},
   "outputs": [
    {
     "name": "stdout",
     "output_type": "stream",
     "text": [
      "Filas no numéricas en columna Sales: 8473    o\n",
      "8474    o\n",
      "8475    l\n",
      "Name: Sales, dtype: object\n"
     ]
    }
   ],
   "source": [
    "# Primero, se intenta convertir los valores de la columna a numéricos\n",
    "# Si hay cadenas de texto, se producirá un error y se marcarán como no numéricas\n",
    "valores_numericos = pd.to_numeric(df[\"Sales\"], errors='coerce')\n",
    "\n",
    "# Ahora, se filtra el DataFrame original para mostrar solo las filas no numéricas de la columna \"Sales\"\n",
    "filas_no_numericas = df[\"Sales\"][valores_numericos.isnull()]\n",
    "\n",
    "# Muestra las filas no numéricas\n",
    "print(\"Filas no numéricas en columna Sales:\", filas_no_numericas)"
   ]
  },
  {
   "cell_type": "code",
   "execution_count": 13,
   "metadata": {},
   "outputs": [
    {
     "name": "stdout",
     "output_type": "stream",
     "text": [
      "Nuevo valor de la fila 8473: 5.28\n",
      "Nuevo valor de la fila 8474: 198.272\n",
      "Nuevo valor de la fila 8475: 242.352\n"
     ]
    }
   ],
   "source": [
    "# Hacemos reemplazo de los datos faltantes, teniendo en cuenta el valor unitario, la cantidad y el descuento (ver Excel)\n",
    "df.at[8473, \"Sales\"] = 5.28\n",
    "df.at[8474, \"Sales\"] = 198.272\n",
    "df.at[8475, \"Sales\"] = 242.352\n",
    "print(\"Nuevo valor de la fila 8473:\", df.at[8473, \"Sales\"])\n",
    "print(\"Nuevo valor de la fila 8474:\", df.at[8474, \"Sales\"])\n",
    "print(\"Nuevo valor de la fila 8475:\", df.at[8475, \"Sales\"])"
   ]
  },
  {
   "cell_type": "code",
   "execution_count": 14,
   "metadata": {},
   "outputs": [],
   "source": [
    "# Ahora se cambia el formato de la columna \"Sales\" a numérico\n",
    "df[\"Sales\"] = df[\"Sales\"].astype(float)"
   ]
  },
  {
   "cell_type": "code",
   "execution_count": 15,
   "metadata": {},
   "outputs": [
    {
     "name": "stdout",
     "output_type": "stream",
     "text": [
      "Filas no numéricas en columna Profit: 10189    nulo\n",
      "Name: Profit, dtype: object\n"
     ]
    }
   ],
   "source": [
    "# Se repite el mismo proceso para corregir el dato no numerico de la columna \"Profit\"\n",
    "valores_numericos_profit = pd.to_numeric(df[\"Profit\"], errors='coerce')\n",
    "filas_no_numericas_profit = df[\"Profit\"][valores_numericos_profit.isnull()]\n",
    "\n",
    "# Muestra las filas no numéricas\n",
    "print(\"Filas no numéricas en columna Profit:\", filas_no_numericas_profit)"
   ]
  },
  {
   "cell_type": "code",
   "execution_count": 16,
   "metadata": {},
   "outputs": [
    {
     "name": "stdout",
     "output_type": "stream",
     "text": [
      "Nuevo valor de la fila 10189: 71.928\n"
     ]
    }
   ],
   "source": [
    "# Hacemos reemplazo de los datos faltantes y cambiamos formato de la columna\n",
    "df.at[10189, \"Profit\"] = 71.928\n",
    "print(\"Nuevo valor de la fila 10189:\", df.at[10189, \"Profit\"])"
   ]
  },
  {
   "cell_type": "code",
   "execution_count": 17,
   "metadata": {},
   "outputs": [],
   "source": [
    "# Ahora se cambia el formato de la columna \"Profit\" a numérico\n",
    "df[\"Profit\"] = df[\"Profit\"].astype(float)"
   ]
  },
  {
   "cell_type": "markdown",
   "metadata": {},
   "source": [
    "3. Estadística descriptiva"
   ]
  },
  {
   "cell_type": "code",
   "execution_count": 18,
   "metadata": {},
   "outputs": [
    {
     "data": {
      "text/html": [
       "<div>\n",
       "<style scoped>\n",
       "    .dataframe tbody tr th:only-of-type {\n",
       "        vertical-align: middle;\n",
       "    }\n",
       "\n",
       "    .dataframe tbody tr th {\n",
       "        vertical-align: top;\n",
       "    }\n",
       "\n",
       "    .dataframe thead th {\n",
       "        text-align: right;\n",
       "    }\n",
       "</style>\n",
       "<table border=\"1\" class=\"dataframe\">\n",
       "  <thead>\n",
       "    <tr style=\"text-align: right;\">\n",
       "      <th></th>\n",
       "      <th>Row_ID</th>\n",
       "      <th>Order_Date</th>\n",
       "      <th>Ship_Date</th>\n",
       "      <th>Sales</th>\n",
       "      <th>Quantity</th>\n",
       "      <th>Discount</th>\n",
       "      <th>Profit</th>\n",
       "    </tr>\n",
       "  </thead>\n",
       "  <tbody>\n",
       "    <tr>\n",
       "      <th>count</th>\n",
       "      <td>10195.000000</td>\n",
       "      <td>10195</td>\n",
       "      <td>10195</td>\n",
       "      <td>1.019500e+04</td>\n",
       "      <td>10195.000000</td>\n",
       "      <td>10195.000000</td>\n",
       "      <td>10195.000000</td>\n",
       "    </tr>\n",
       "    <tr>\n",
       "      <th>mean</th>\n",
       "      <td>5097.726336</td>\n",
       "      <td>2022-05-01 03:50:30.779793920</td>\n",
       "      <td>2022-05-03 16:30:33.369298688</td>\n",
       "      <td>4.151538e+03</td>\n",
       "      <td>11.419814</td>\n",
       "      <td>0.156331</td>\n",
       "      <td>28.670838</td>\n",
       "    </tr>\n",
       "    <tr>\n",
       "      <th>min</th>\n",
       "      <td>1.000000</td>\n",
       "      <td>2020-01-03 00:00:00</td>\n",
       "      <td>2020-01-07 00:00:00</td>\n",
       "      <td>4.440000e-01</td>\n",
       "      <td>1.000000</td>\n",
       "      <td>0.000000</td>\n",
       "      <td>-6599.978000</td>\n",
       "    </tr>\n",
       "    <tr>\n",
       "      <th>25%</th>\n",
       "      <td>2549.500000</td>\n",
       "      <td>2021-05-14 00:00:00</td>\n",
       "      <td>2021-05-19 00:00:00</td>\n",
       "      <td>1.722000e+01</td>\n",
       "      <td>2.000000</td>\n",
       "      <td>0.000000</td>\n",
       "      <td>1.760800</td>\n",
       "    </tr>\n",
       "    <tr>\n",
       "      <th>50%</th>\n",
       "      <td>5098.000000</td>\n",
       "      <td>2022-06-26 00:00:00</td>\n",
       "      <td>2022-06-28 00:00:00</td>\n",
       "      <td>5.392000e+01</td>\n",
       "      <td>3.000000</td>\n",
       "      <td>0.200000</td>\n",
       "      <td>8.690000</td>\n",
       "    </tr>\n",
       "    <tr>\n",
       "      <th>75%</th>\n",
       "      <td>7645.500000</td>\n",
       "      <td>2023-05-14 00:00:00</td>\n",
       "      <td>2023-05-18 00:00:00</td>\n",
       "      <td>2.095000e+02</td>\n",
       "      <td>5.000000</td>\n",
       "      <td>0.200000</td>\n",
       "      <td>29.293850</td>\n",
       "    </tr>\n",
       "    <tr>\n",
       "      <th>max</th>\n",
       "      <td>10194.000000</td>\n",
       "      <td>2033-11-16 00:00:00</td>\n",
       "      <td>2024-01-05 00:00:00</td>\n",
       "      <td>3.000000e+07</td>\n",
       "      <td>77777.000000</td>\n",
       "      <td>10.000000</td>\n",
       "      <td>8399.976000</td>\n",
       "    </tr>\n",
       "    <tr>\n",
       "      <th>std</th>\n",
       "      <td>2942.843045</td>\n",
       "      <td>NaN</td>\n",
       "      <td>NaN</td>\n",
       "      <td>3.131775e+05</td>\n",
       "      <td>770.261550</td>\n",
       "      <td>0.228129</td>\n",
       "      <td>232.453859</td>\n",
       "    </tr>\n",
       "  </tbody>\n",
       "</table>\n",
       "</div>"
      ],
      "text/plain": [
       "             Row_ID                     Order_Date  \\\n",
       "count  10195.000000                          10195   \n",
       "mean    5097.726336  2022-05-01 03:50:30.779793920   \n",
       "min        1.000000            2020-01-03 00:00:00   \n",
       "25%     2549.500000            2021-05-14 00:00:00   \n",
       "50%     5098.000000            2022-06-26 00:00:00   \n",
       "75%     7645.500000            2023-05-14 00:00:00   \n",
       "max    10194.000000            2033-11-16 00:00:00   \n",
       "std     2942.843045                            NaN   \n",
       "\n",
       "                           Ship_Date         Sales      Quantity  \\\n",
       "count                          10195  1.019500e+04  10195.000000   \n",
       "mean   2022-05-03 16:30:33.369298688  4.151538e+03     11.419814   \n",
       "min              2020-01-07 00:00:00  4.440000e-01      1.000000   \n",
       "25%              2021-05-19 00:00:00  1.722000e+01      2.000000   \n",
       "50%              2022-06-28 00:00:00  5.392000e+01      3.000000   \n",
       "75%              2023-05-18 00:00:00  2.095000e+02      5.000000   \n",
       "max              2024-01-05 00:00:00  3.000000e+07  77777.000000   \n",
       "std                              NaN  3.131775e+05    770.261550   \n",
       "\n",
       "           Discount        Profit  \n",
       "count  10195.000000  10195.000000  \n",
       "mean       0.156331     28.670838  \n",
       "min        0.000000  -6599.978000  \n",
       "25%        0.000000      1.760800  \n",
       "50%        0.200000      8.690000  \n",
       "75%        0.200000     29.293850  \n",
       "max       10.000000   8399.976000  \n",
       "std        0.228129    232.453859  "
      ]
     },
     "execution_count": 18,
     "metadata": {},
     "output_type": "execute_result"
    }
   ],
   "source": [
    "df.describe()"
   ]
  },
  {
   "cell_type": "markdown",
   "metadata": {},
   "source": [
    "* Row_ID es una columna que puede ser eliminada ya que solo es una columna con el mismo valor del index\n",
    "* Se ve que en la columna \"Order_Date\" el valor más alto corresponde al año 2033. Esto es un error porque los datos comprenden las fechas de ventas entre los años 2020 y 2023. Continuamos con el proceso de limpieza al encontrar nuevas inconsistencias (es un proceso iterativo)\n",
    "* El valor máximo en la columna \"Quantity\" correspondiente a 77777 debe revisarse\n",
    "* El valor máximo en la columna \"Discount\" es un error, debido a que los valores de esa columna van entre 0 y 1"
   ]
  },
  {
   "cell_type": "code",
   "execution_count": 19,
   "metadata": {},
   "outputs": [
    {
     "data": {
      "text/html": [
       "<div>\n",
       "<style scoped>\n",
       "    .dataframe tbody tr th:only-of-type {\n",
       "        vertical-align: middle;\n",
       "    }\n",
       "\n",
       "    .dataframe tbody tr th {\n",
       "        vertical-align: top;\n",
       "    }\n",
       "\n",
       "    .dataframe thead th {\n",
       "        text-align: right;\n",
       "    }\n",
       "</style>\n",
       "<table border=\"1\" class=\"dataframe\">\n",
       "  <thead>\n",
       "    <tr style=\"text-align: right;\">\n",
       "      <th></th>\n",
       "      <th>Order_ID</th>\n",
       "      <th>Order_Date</th>\n",
       "      <th>Ship_Date</th>\n",
       "      <th>Ship_Mode</th>\n",
       "      <th>Customer_ID</th>\n",
       "      <th>Country/Region</th>\n",
       "      <th>City</th>\n",
       "      <th>State/Province</th>\n",
       "      <th>Postal_Code</th>\n",
       "      <th>Region</th>\n",
       "      <th>Product_ID</th>\n",
       "      <th>Sales</th>\n",
       "      <th>Quantity</th>\n",
       "      <th>Discount</th>\n",
       "      <th>Profit</th>\n",
       "    </tr>\n",
       "  </thead>\n",
       "  <tbody>\n",
       "    <tr>\n",
       "      <th>0</th>\n",
       "      <td>US-2020-103800</td>\n",
       "      <td>2020-01-03</td>\n",
       "      <td>2020-01-07</td>\n",
       "      <td>Standard Class</td>\n",
       "      <td>DP-13000</td>\n",
       "      <td>United States</td>\n",
       "      <td>Houston</td>\n",
       "      <td>Texas</td>\n",
       "      <td>77095</td>\n",
       "      <td>Central</td>\n",
       "      <td>OFF-PA-10000174</td>\n",
       "      <td>16.448</td>\n",
       "      <td>2</td>\n",
       "      <td>0.2</td>\n",
       "      <td>5.5512</td>\n",
       "    </tr>\n",
       "    <tr>\n",
       "      <th>1</th>\n",
       "      <td>US-2020-112326</td>\n",
       "      <td>2020-01-04</td>\n",
       "      <td>2020-01-08</td>\n",
       "      <td>Standard Class</td>\n",
       "      <td>PO-19195</td>\n",
       "      <td>United States</td>\n",
       "      <td>Naperville</td>\n",
       "      <td>Illinois</td>\n",
       "      <td>60540</td>\n",
       "      <td>Central</td>\n",
       "      <td>OFF-BI-10004094</td>\n",
       "      <td>3.540</td>\n",
       "      <td>2</td>\n",
       "      <td>0.8</td>\n",
       "      <td>-5.4870</td>\n",
       "    </tr>\n",
       "    <tr>\n",
       "      <th>2</th>\n",
       "      <td>US-2020-112326</td>\n",
       "      <td>2020-01-04</td>\n",
       "      <td>2020-01-08</td>\n",
       "      <td>Standard Class</td>\n",
       "      <td>PO-19195</td>\n",
       "      <td>United States</td>\n",
       "      <td>Naperville</td>\n",
       "      <td>Illinois</td>\n",
       "      <td>60540</td>\n",
       "      <td>Central</td>\n",
       "      <td>OFF-LA-10003223</td>\n",
       "      <td>11.784</td>\n",
       "      <td>3</td>\n",
       "      <td>0.2</td>\n",
       "      <td>4.2717</td>\n",
       "    </tr>\n",
       "    <tr>\n",
       "      <th>3</th>\n",
       "      <td>US-2020-112326</td>\n",
       "      <td>2020-01-04</td>\n",
       "      <td>2020-01-08</td>\n",
       "      <td>Standard Class</td>\n",
       "      <td>PO-19195</td>\n",
       "      <td>United States</td>\n",
       "      <td>Naperville</td>\n",
       "      <td>Illinois</td>\n",
       "      <td>60540</td>\n",
       "      <td>Central</td>\n",
       "      <td>OFF-ST-10002743</td>\n",
       "      <td>272.736</td>\n",
       "      <td>3</td>\n",
       "      <td>0.2</td>\n",
       "      <td>-64.7748</td>\n",
       "    </tr>\n",
       "    <tr>\n",
       "      <th>4</th>\n",
       "      <td>US-2020-141817</td>\n",
       "      <td>2020-01-05</td>\n",
       "      <td>2020-01-12</td>\n",
       "      <td>Standard Class</td>\n",
       "      <td>MB-18085</td>\n",
       "      <td>United States</td>\n",
       "      <td>Philadelphia</td>\n",
       "      <td>Pennsylvania</td>\n",
       "      <td>19143</td>\n",
       "      <td>East</td>\n",
       "      <td>OFF-AR-10003478</td>\n",
       "      <td>19.536</td>\n",
       "      <td>3</td>\n",
       "      <td>0.2</td>\n",
       "      <td>4.8840</td>\n",
       "    </tr>\n",
       "  </tbody>\n",
       "</table>\n",
       "</div>"
      ],
      "text/plain": [
       "         Order_ID Order_Date  Ship_Date       Ship_Mode Customer_ID  \\\n",
       "0  US-2020-103800 2020-01-03 2020-01-07  Standard Class    DP-13000   \n",
       "1  US-2020-112326 2020-01-04 2020-01-08  Standard Class    PO-19195   \n",
       "2  US-2020-112326 2020-01-04 2020-01-08  Standard Class    PO-19195   \n",
       "3  US-2020-112326 2020-01-04 2020-01-08  Standard Class    PO-19195   \n",
       "4  US-2020-141817 2020-01-05 2020-01-12  Standard Class    MB-18085   \n",
       "\n",
       "  Country/Region          City State/Province Postal_Code   Region  \\\n",
       "0  United States       Houston          Texas       77095  Central   \n",
       "1  United States    Naperville       Illinois       60540  Central   \n",
       "2  United States    Naperville       Illinois       60540  Central   \n",
       "3  United States    Naperville       Illinois       60540  Central   \n",
       "4  United States  Philadelphia   Pennsylvania       19143     East   \n",
       "\n",
       "        Product_ID    Sales  Quantity  Discount   Profit  \n",
       "0  OFF-PA-10000174   16.448         2       0.2   5.5512  \n",
       "1  OFF-BI-10004094    3.540         2       0.8  -5.4870  \n",
       "2  OFF-LA-10003223   11.784         3       0.2   4.2717  \n",
       "3  OFF-ST-10002743  272.736         3       0.2 -64.7748  \n",
       "4  OFF-AR-10003478   19.536         3       0.2   4.8840  "
      ]
     },
     "execution_count": 19,
     "metadata": {},
     "output_type": "execute_result"
    }
   ],
   "source": [
    "# Eliminamos columna \"Row_ID\"\n",
    "df = df.drop(\"Row_ID\", axis = 1)\n",
    "df.head()"
   ]
  },
  {
   "cell_type": "code",
   "execution_count": 26,
   "metadata": {},
   "outputs": [
    {
     "name": "stdout",
     "output_type": "stream",
     "text": [
      "             Order_ID Order_Date  Ship_Date       Ship_Mode Customer_ID  \\\n",
      "3250   US-2021-112711 2031-07-12 2021-07-18  Standard Class    FM-14380   \n",
      "3934   US-2021-139731 2031-10-15 2021-10-15        Same Day    JE-15745   \n",
      "3941   US-2021-139731 2031-10-15 2021-10-15        Same Day    JE-15745   \n",
      "10947  US-2023-114657 2033-11-16 2023-11-21  Standard Class    MH-18115   \n",
      "\n",
      "      Country/Region      City State/Province Postal_Code   Region  \\\n",
      "3250   United States  Amarillo          Texas       79109  Central   \n",
      "3934   United States  Amarillo          Texas       79109  Central   \n",
      "3941   United States  Amarillo          Texas       79109  Central   \n",
      "10947  United States   Yonkers       New York       10701     East   \n",
      "\n",
      "            Product_ID     Sales  Quantity  Discount    Profit  \n",
      "3250   TEC-PH-10000526   307.168         4       0.2   30.7168  \n",
      "3934   FUR-CH-10002024  2453.430         5       0.3 -350.4900  \n",
      "3941   TEC-AC-10004975   263.880         3       0.2   42.8805  \n",
      "10947  TEC-MA-10003173    52.440         4       0.0   24.1224  \n"
     ]
    }
   ],
   "source": [
    "# Corregimos la columna \"Order_Date\" para aquellos registros mayores al año 2023\n",
    "filas_mayor_2023 = df[df[\"Order_Date\"] >= \"2024-01-01\"]\n",
    "print(filas_mayor_2023)"
   ]
  },
  {
   "cell_type": "code",
   "execution_count": 30,
   "metadata": {},
   "outputs": [
    {
     "name": "stdout",
     "output_type": "stream",
     "text": [
      "Empty DataFrame\n",
      "Columns: [Order_ID, Order_Date, Ship_Date, Ship_Mode, Customer_ID, Country/Region, City, State/Province, Postal_Code, Region, Product_ID, Sales, Quantity, Discount, Profit]\n",
      "Index: []\n"
     ]
    }
   ],
   "source": [
    "# Se encuentran 4 filas en la columna \"Order_Date\" con fecha erronea\n",
    "# Se procede a corregir dichos datos\n",
    "df.at[3250, \"Order_Date\"] = pd.to_datetime(\"2021-07-12\")\n",
    "df.at[3934, \"Order_Date\"] = pd.to_datetime(\"2021-10-15\")\n",
    "df.at[3941, \"Order_Date\"] = pd.to_datetime(\"2021-10-15\")\n",
    "df.at[10947, \"Order_Date\"] = pd.to_datetime(\"2023-11-16\")\n",
    "\n",
    "filas_mayor_2023 = df[df[\"Order_Date\"] >= \"2024-01-01\"]\n",
    "print(filas_mayor_2023)"
   ]
  },
  {
   "cell_type": "markdown",
   "metadata": {},
   "source": [
    "* Manejo de Outliers en columnas \"Quantity\" y \"Discount\""
   ]
  },
  {
   "cell_type": "code",
   "execution_count": 100,
   "metadata": {},
   "outputs": [
    {
     "name": "stdout",
     "output_type": "stream",
     "text": [
      "Media Quantity: 3.6550209622679177\n",
      "Mediana Quantity: 3.0\n"
     ]
    }
   ],
   "source": [
    "# Para columna \"Quantity\"\n",
    "# Usamos el método Interquartile Range (IQR)\n",
    "# Calculo de IQR\n",
    "#Q1 = df[\"Quantity\"].quantile(0.25)\n",
    "#Q3 = df[\"Quantity\"].quantile(0.75)\n",
    "#IQR = Q3 - Q1\n",
    "\n",
    "# Definicion de limites para los outliers\n",
    "#lower_bound = Q1 - 1.5 * IQR\n",
    "#upper_bound = Q3 + 1.5 * IQR\n",
    "\n",
    "# Filtrando los outliers\n",
    "#df = df[(df[\"Quantity\"] >= lower_bound) & (df[\"Quantity\"] <= upper_bound)]\n",
    "media_Quantity = df[\"Quantity\"].mean()\n",
    "mediana_Quantity = df[\"Quantity\"].median()\n",
    "print(\"Media Quantity:\", media_Quantity)\n",
    "print(\"Mediana Quantity:\", mediana_Quantity)"
   ]
  },
  {
   "cell_type": "code",
   "execution_count": 101,
   "metadata": {},
   "outputs": [
    {
     "data": {
      "text/html": [
       "<div>\n",
       "<style scoped>\n",
       "    .dataframe tbody tr th:only-of-type {\n",
       "        vertical-align: middle;\n",
       "    }\n",
       "\n",
       "    .dataframe tbody tr th {\n",
       "        vertical-align: top;\n",
       "    }\n",
       "\n",
       "    .dataframe thead th {\n",
       "        text-align: right;\n",
       "    }\n",
       "</style>\n",
       "<table border=\"1\" class=\"dataframe\">\n",
       "  <thead>\n",
       "    <tr style=\"text-align: right;\">\n",
       "      <th></th>\n",
       "      <th>Order_Date</th>\n",
       "      <th>Ship_Date</th>\n",
       "      <th>Sales</th>\n",
       "      <th>Quantity</th>\n",
       "      <th>Discount</th>\n",
       "      <th>Profit</th>\n",
       "      <th>Order_Year</th>\n",
       "      <th>Order_month</th>\n",
       "      <th>0rder_day</th>\n",
       "      <th>Cost</th>\n",
       "    </tr>\n",
       "  </thead>\n",
       "  <tbody>\n",
       "    <tr>\n",
       "      <th>count</th>\n",
       "      <td>10018</td>\n",
       "      <td>10018</td>\n",
       "      <td>1.001800e+04</td>\n",
       "      <td>10018.000000</td>\n",
       "      <td>10018.000000</td>\n",
       "      <td>10018.000000</td>\n",
       "      <td>10018.000000</td>\n",
       "      <td>10018.000000</td>\n",
       "      <td>10018.000000</td>\n",
       "      <td>1.001800e+04</td>\n",
       "    </tr>\n",
       "    <tr>\n",
       "      <th>mean</th>\n",
       "      <td>2022-04-30 13:17:54.465961472</td>\n",
       "      <td>2022-05-04 12:21:16.422439424</td>\n",
       "      <td>4.214791e+03</td>\n",
       "      <td>3.655021</td>\n",
       "      <td>0.155537</td>\n",
       "      <td>27.490945</td>\n",
       "      <td>2021.722999</td>\n",
       "      <td>7.805750</td>\n",
       "      <td>15.445199</td>\n",
       "      <td>4.187300e+03</td>\n",
       "    </tr>\n",
       "    <tr>\n",
       "      <th>min</th>\n",
       "      <td>2020-01-03 00:00:00</td>\n",
       "      <td>2020-01-07 00:00:00</td>\n",
       "      <td>4.440000e-01</td>\n",
       "      <td>1.000000</td>\n",
       "      <td>0.000000</td>\n",
       "      <td>-6599.978000</td>\n",
       "      <td>2020.000000</td>\n",
       "      <td>1.000000</td>\n",
       "      <td>1.000000</td>\n",
       "      <td>5.544000e-01</td>\n",
       "    </tr>\n",
       "    <tr>\n",
       "      <th>25%</th>\n",
       "      <td>2021-05-18 12:00:00</td>\n",
       "      <td>2021-05-23 06:00:00</td>\n",
       "      <td>1.690000e+01</td>\n",
       "      <td>2.000000</td>\n",
       "      <td>0.000000</td>\n",
       "      <td>1.730250</td>\n",
       "      <td>2021.000000</td>\n",
       "      <td>5.000000</td>\n",
       "      <td>8.000000</td>\n",
       "      <td>1.227473e+01</td>\n",
       "    </tr>\n",
       "    <tr>\n",
       "      <th>50%</th>\n",
       "      <td>2022-06-26 00:00:00</td>\n",
       "      <td>2022-06-29 00:00:00</td>\n",
       "      <td>5.195000e+01</td>\n",
       "      <td>3.000000</td>\n",
       "      <td>0.200000</td>\n",
       "      <td>8.469600</td>\n",
       "      <td>2022.000000</td>\n",
       "      <td>9.000000</td>\n",
       "      <td>15.000000</td>\n",
       "      <td>4.048265e+01</td>\n",
       "    </tr>\n",
       "    <tr>\n",
       "      <th>75%</th>\n",
       "      <td>2023-05-14 00:00:00</td>\n",
       "      <td>2023-05-18 00:00:00</td>\n",
       "      <td>2.048875e+02</td>\n",
       "      <td>5.000000</td>\n",
       "      <td>0.200000</td>\n",
       "      <td>28.497000</td>\n",
       "      <td>2023.000000</td>\n",
       "      <td>11.000000</td>\n",
       "      <td>23.000000</td>\n",
       "      <td>1.775219e+02</td>\n",
       "    </tr>\n",
       "    <tr>\n",
       "      <th>max</th>\n",
       "      <td>2023-12-30 00:00:00</td>\n",
       "      <td>2024-01-05 00:00:00</td>\n",
       "      <td>3.000000e+07</td>\n",
       "      <td>9.000000</td>\n",
       "      <td>0.800000</td>\n",
       "      <td>8399.976000</td>\n",
       "      <td>2023.000000</td>\n",
       "      <td>12.000000</td>\n",
       "      <td>31.000000</td>\n",
       "      <td>3.000000e+07</td>\n",
       "    </tr>\n",
       "    <tr>\n",
       "      <th>std</th>\n",
       "      <td>NaN</td>\n",
       "      <td>NaN</td>\n",
       "      <td>3.159319e+05</td>\n",
       "      <td>1.981540</td>\n",
       "      <td>0.206426</td>\n",
       "      <td>227.424073</td>\n",
       "      <td>1.124403</td>\n",
       "      <td>3.294351</td>\n",
       "      <td>8.725549</td>\n",
       "      <td>3.159318e+05</td>\n",
       "    </tr>\n",
       "  </tbody>\n",
       "</table>\n",
       "</div>"
      ],
      "text/plain": [
       "                          Order_Date                      Ship_Date  \\\n",
       "count                          10018                          10018   \n",
       "mean   2022-04-30 13:17:54.465961472  2022-05-04 12:21:16.422439424   \n",
       "min              2020-01-03 00:00:00            2020-01-07 00:00:00   \n",
       "25%              2021-05-18 12:00:00            2021-05-23 06:00:00   \n",
       "50%              2022-06-26 00:00:00            2022-06-29 00:00:00   \n",
       "75%              2023-05-14 00:00:00            2023-05-18 00:00:00   \n",
       "max              2023-12-30 00:00:00            2024-01-05 00:00:00   \n",
       "std                              NaN                            NaN   \n",
       "\n",
       "              Sales      Quantity      Discount        Profit    Order_Year  \\\n",
       "count  1.001800e+04  10018.000000  10018.000000  10018.000000  10018.000000   \n",
       "mean   4.214791e+03      3.655021      0.155537     27.490945   2021.722999   \n",
       "min    4.440000e-01      1.000000      0.000000  -6599.978000   2020.000000   \n",
       "25%    1.690000e+01      2.000000      0.000000      1.730250   2021.000000   \n",
       "50%    5.195000e+01      3.000000      0.200000      8.469600   2022.000000   \n",
       "75%    2.048875e+02      5.000000      0.200000     28.497000   2023.000000   \n",
       "max    3.000000e+07      9.000000      0.800000   8399.976000   2023.000000   \n",
       "std    3.159319e+05      1.981540      0.206426    227.424073      1.124403   \n",
       "\n",
       "        Order_month     0rder_day          Cost  \n",
       "count  10018.000000  10018.000000  1.001800e+04  \n",
       "mean       7.805750     15.445199  4.187300e+03  \n",
       "min        1.000000      1.000000  5.544000e-01  \n",
       "25%        5.000000      8.000000  1.227473e+01  \n",
       "50%        9.000000     15.000000  4.048265e+01  \n",
       "75%       11.000000     23.000000  1.775219e+02  \n",
       "max       12.000000     31.000000  3.000000e+07  \n",
       "std        3.294351      8.725549  3.159318e+05  "
      ]
     },
     "execution_count": 101,
     "metadata": {},
     "output_type": "execute_result"
    }
   ],
   "source": [
    "# Remmplazamos el outlier 77777 por la mediana (más sensible a valores extremos)\n",
    "df.loc[df[\"Quantity\"] == 77777, \"Quantity\"] = mediana_Quantity\n",
    "df.describe()"
   ]
  },
  {
   "cell_type": "code",
   "execution_count": 39,
   "metadata": {},
   "outputs": [
    {
     "data": {
      "text/html": [
       "<div>\n",
       "<style scoped>\n",
       "    .dataframe tbody tr th:only-of-type {\n",
       "        vertical-align: middle;\n",
       "    }\n",
       "\n",
       "    .dataframe tbody tr th {\n",
       "        vertical-align: top;\n",
       "    }\n",
       "\n",
       "    .dataframe thead th {\n",
       "        text-align: right;\n",
       "    }\n",
       "</style>\n",
       "<table border=\"1\" class=\"dataframe\">\n",
       "  <thead>\n",
       "    <tr style=\"text-align: right;\">\n",
       "      <th></th>\n",
       "      <th>Order_Date</th>\n",
       "      <th>Ship_Date</th>\n",
       "      <th>Sales</th>\n",
       "      <th>Quantity</th>\n",
       "      <th>Discount</th>\n",
       "      <th>Profit</th>\n",
       "    </tr>\n",
       "  </thead>\n",
       "  <tbody>\n",
       "    <tr>\n",
       "      <th>count</th>\n",
       "      <td>10018</td>\n",
       "      <td>10018</td>\n",
       "      <td>1.001800e+04</td>\n",
       "      <td>10018.000000</td>\n",
       "      <td>10018.000000</td>\n",
       "      <td>10018.000000</td>\n",
       "    </tr>\n",
       "    <tr>\n",
       "      <th>mean</th>\n",
       "      <td>2022-04-30 13:17:54.465961472</td>\n",
       "      <td>2022-05-04 12:21:16.422439424</td>\n",
       "      <td>4.214791e+03</td>\n",
       "      <td>3.655021</td>\n",
       "      <td>0.155537</td>\n",
       "      <td>27.490945</td>\n",
       "    </tr>\n",
       "    <tr>\n",
       "      <th>min</th>\n",
       "      <td>2020-01-03 00:00:00</td>\n",
       "      <td>2020-01-07 00:00:00</td>\n",
       "      <td>4.440000e-01</td>\n",
       "      <td>1.000000</td>\n",
       "      <td>0.000000</td>\n",
       "      <td>-6599.978000</td>\n",
       "    </tr>\n",
       "    <tr>\n",
       "      <th>25%</th>\n",
       "      <td>2021-05-18 12:00:00</td>\n",
       "      <td>2021-05-23 06:00:00</td>\n",
       "      <td>1.690000e+01</td>\n",
       "      <td>2.000000</td>\n",
       "      <td>0.000000</td>\n",
       "      <td>1.730250</td>\n",
       "    </tr>\n",
       "    <tr>\n",
       "      <th>50%</th>\n",
       "      <td>2022-06-26 00:00:00</td>\n",
       "      <td>2022-06-29 00:00:00</td>\n",
       "      <td>5.195000e+01</td>\n",
       "      <td>3.000000</td>\n",
       "      <td>0.200000</td>\n",
       "      <td>8.469600</td>\n",
       "    </tr>\n",
       "    <tr>\n",
       "      <th>75%</th>\n",
       "      <td>2023-05-14 00:00:00</td>\n",
       "      <td>2023-05-18 00:00:00</td>\n",
       "      <td>2.048875e+02</td>\n",
       "      <td>5.000000</td>\n",
       "      <td>0.200000</td>\n",
       "      <td>28.497000</td>\n",
       "    </tr>\n",
       "    <tr>\n",
       "      <th>max</th>\n",
       "      <td>2023-12-30 00:00:00</td>\n",
       "      <td>2024-01-05 00:00:00</td>\n",
       "      <td>3.000000e+07</td>\n",
       "      <td>9.000000</td>\n",
       "      <td>0.800000</td>\n",
       "      <td>8399.976000</td>\n",
       "    </tr>\n",
       "    <tr>\n",
       "      <th>std</th>\n",
       "      <td>NaN</td>\n",
       "      <td>NaN</td>\n",
       "      <td>3.159319e+05</td>\n",
       "      <td>1.981540</td>\n",
       "      <td>0.206426</td>\n",
       "      <td>227.424073</td>\n",
       "    </tr>\n",
       "  </tbody>\n",
       "</table>\n",
       "</div>"
      ],
      "text/plain": [
       "                          Order_Date                      Ship_Date  \\\n",
       "count                          10018                          10018   \n",
       "mean   2022-04-30 13:17:54.465961472  2022-05-04 12:21:16.422439424   \n",
       "min              2020-01-03 00:00:00            2020-01-07 00:00:00   \n",
       "25%              2021-05-18 12:00:00            2021-05-23 06:00:00   \n",
       "50%              2022-06-26 00:00:00            2022-06-29 00:00:00   \n",
       "75%              2023-05-14 00:00:00            2023-05-18 00:00:00   \n",
       "max              2023-12-30 00:00:00            2024-01-05 00:00:00   \n",
       "std                              NaN                            NaN   \n",
       "\n",
       "              Sales      Quantity      Discount        Profit  \n",
       "count  1.001800e+04  10018.000000  10018.000000  10018.000000  \n",
       "mean   4.214791e+03      3.655021      0.155537     27.490945  \n",
       "min    4.440000e-01      1.000000      0.000000  -6599.978000  \n",
       "25%    1.690000e+01      2.000000      0.000000      1.730250  \n",
       "50%    5.195000e+01      3.000000      0.200000      8.469600  \n",
       "75%    2.048875e+02      5.000000      0.200000     28.497000  \n",
       "max    3.000000e+07      9.000000      0.800000   8399.976000  \n",
       "std    3.159319e+05      1.981540      0.206426    227.424073  "
      ]
     },
     "execution_count": 39,
     "metadata": {},
     "output_type": "execute_result"
    }
   ],
   "source": [
    "# Para columna \"Discount\"\n",
    "# Se asume que los descuento van de 0 a 1\n",
    "df = df[(df[\"Discount\"] >= 0) & (df[\"Discount\"] <= 1)]\n",
    "\n",
    "df.describe()"
   ]
  },
  {
   "cell_type": "markdown",
   "metadata": {},
   "source": [
    "* Agregación de nuevas columnas para soportar el análisis"
   ]
  },
  {
   "cell_type": "code",
   "execution_count": 41,
   "metadata": {},
   "outputs": [
    {
     "data": {
      "text/html": [
       "<div>\n",
       "<style scoped>\n",
       "    .dataframe tbody tr th:only-of-type {\n",
       "        vertical-align: middle;\n",
       "    }\n",
       "\n",
       "    .dataframe tbody tr th {\n",
       "        vertical-align: top;\n",
       "    }\n",
       "\n",
       "    .dataframe thead th {\n",
       "        text-align: right;\n",
       "    }\n",
       "</style>\n",
       "<table border=\"1\" class=\"dataframe\">\n",
       "  <thead>\n",
       "    <tr style=\"text-align: right;\">\n",
       "      <th></th>\n",
       "      <th>Order_ID</th>\n",
       "      <th>Order_Date</th>\n",
       "      <th>Ship_Date</th>\n",
       "      <th>Ship_Mode</th>\n",
       "      <th>Customer_ID</th>\n",
       "      <th>Country/Region</th>\n",
       "      <th>City</th>\n",
       "      <th>State/Province</th>\n",
       "      <th>Postal_Code</th>\n",
       "      <th>Region</th>\n",
       "      <th>Product_ID</th>\n",
       "      <th>Sales</th>\n",
       "      <th>Quantity</th>\n",
       "      <th>Discount</th>\n",
       "      <th>Profit</th>\n",
       "      <th>Order_Year</th>\n",
       "      <th>Order_month</th>\n",
       "      <th>0rder_day</th>\n",
       "      <th>0rder_year_month</th>\n",
       "      <th>Cost</th>\n",
       "    </tr>\n",
       "  </thead>\n",
       "  <tbody>\n",
       "    <tr>\n",
       "      <th>0</th>\n",
       "      <td>US-2020-103800</td>\n",
       "      <td>2020-01-03</td>\n",
       "      <td>2020-01-07</td>\n",
       "      <td>Standard Class</td>\n",
       "      <td>DP-13000</td>\n",
       "      <td>United States</td>\n",
       "      <td>Houston</td>\n",
       "      <td>Texas</td>\n",
       "      <td>77095</td>\n",
       "      <td>Central</td>\n",
       "      <td>OFF-PA-10000174</td>\n",
       "      <td>16.448</td>\n",
       "      <td>2</td>\n",
       "      <td>0.2</td>\n",
       "      <td>5.5512</td>\n",
       "      <td>2020</td>\n",
       "      <td>1</td>\n",
       "      <td>3</td>\n",
       "      <td>2020-01</td>\n",
       "      <td>10.8968</td>\n",
       "    </tr>\n",
       "    <tr>\n",
       "      <th>1</th>\n",
       "      <td>US-2020-112326</td>\n",
       "      <td>2020-01-04</td>\n",
       "      <td>2020-01-08</td>\n",
       "      <td>Standard Class</td>\n",
       "      <td>PO-19195</td>\n",
       "      <td>United States</td>\n",
       "      <td>Naperville</td>\n",
       "      <td>Illinois</td>\n",
       "      <td>60540</td>\n",
       "      <td>Central</td>\n",
       "      <td>OFF-BI-10004094</td>\n",
       "      <td>3.540</td>\n",
       "      <td>2</td>\n",
       "      <td>0.8</td>\n",
       "      <td>-5.4870</td>\n",
       "      <td>2020</td>\n",
       "      <td>1</td>\n",
       "      <td>4</td>\n",
       "      <td>2020-01</td>\n",
       "      <td>9.0270</td>\n",
       "    </tr>\n",
       "    <tr>\n",
       "      <th>2</th>\n",
       "      <td>US-2020-112326</td>\n",
       "      <td>2020-01-04</td>\n",
       "      <td>2020-01-08</td>\n",
       "      <td>Standard Class</td>\n",
       "      <td>PO-19195</td>\n",
       "      <td>United States</td>\n",
       "      <td>Naperville</td>\n",
       "      <td>Illinois</td>\n",
       "      <td>60540</td>\n",
       "      <td>Central</td>\n",
       "      <td>OFF-LA-10003223</td>\n",
       "      <td>11.784</td>\n",
       "      <td>3</td>\n",
       "      <td>0.2</td>\n",
       "      <td>4.2717</td>\n",
       "      <td>2020</td>\n",
       "      <td>1</td>\n",
       "      <td>4</td>\n",
       "      <td>2020-01</td>\n",
       "      <td>7.5123</td>\n",
       "    </tr>\n",
       "    <tr>\n",
       "      <th>3</th>\n",
       "      <td>US-2020-112326</td>\n",
       "      <td>2020-01-04</td>\n",
       "      <td>2020-01-08</td>\n",
       "      <td>Standard Class</td>\n",
       "      <td>PO-19195</td>\n",
       "      <td>United States</td>\n",
       "      <td>Naperville</td>\n",
       "      <td>Illinois</td>\n",
       "      <td>60540</td>\n",
       "      <td>Central</td>\n",
       "      <td>OFF-ST-10002743</td>\n",
       "      <td>272.736</td>\n",
       "      <td>3</td>\n",
       "      <td>0.2</td>\n",
       "      <td>-64.7748</td>\n",
       "      <td>2020</td>\n",
       "      <td>1</td>\n",
       "      <td>4</td>\n",
       "      <td>2020-01</td>\n",
       "      <td>337.5108</td>\n",
       "    </tr>\n",
       "    <tr>\n",
       "      <th>4</th>\n",
       "      <td>US-2020-141817</td>\n",
       "      <td>2020-01-05</td>\n",
       "      <td>2020-01-12</td>\n",
       "      <td>Standard Class</td>\n",
       "      <td>MB-18085</td>\n",
       "      <td>United States</td>\n",
       "      <td>Philadelphia</td>\n",
       "      <td>Pennsylvania</td>\n",
       "      <td>19143</td>\n",
       "      <td>East</td>\n",
       "      <td>OFF-AR-10003478</td>\n",
       "      <td>19.536</td>\n",
       "      <td>3</td>\n",
       "      <td>0.2</td>\n",
       "      <td>4.8840</td>\n",
       "      <td>2020</td>\n",
       "      <td>1</td>\n",
       "      <td>5</td>\n",
       "      <td>2020-01</td>\n",
       "      <td>14.6520</td>\n",
       "    </tr>\n",
       "  </tbody>\n",
       "</table>\n",
       "</div>"
      ],
      "text/plain": [
       "         Order_ID Order_Date  Ship_Date       Ship_Mode Customer_ID  \\\n",
       "0  US-2020-103800 2020-01-03 2020-01-07  Standard Class    DP-13000   \n",
       "1  US-2020-112326 2020-01-04 2020-01-08  Standard Class    PO-19195   \n",
       "2  US-2020-112326 2020-01-04 2020-01-08  Standard Class    PO-19195   \n",
       "3  US-2020-112326 2020-01-04 2020-01-08  Standard Class    PO-19195   \n",
       "4  US-2020-141817 2020-01-05 2020-01-12  Standard Class    MB-18085   \n",
       "\n",
       "  Country/Region          City State/Province Postal_Code   Region  \\\n",
       "0  United States       Houston          Texas       77095  Central   \n",
       "1  United States    Naperville       Illinois       60540  Central   \n",
       "2  United States    Naperville       Illinois       60540  Central   \n",
       "3  United States    Naperville       Illinois       60540  Central   \n",
       "4  United States  Philadelphia   Pennsylvania       19143     East   \n",
       "\n",
       "        Product_ID    Sales  Quantity  Discount   Profit  Order_Year  \\\n",
       "0  OFF-PA-10000174   16.448         2       0.2   5.5512        2020   \n",
       "1  OFF-BI-10004094    3.540         2       0.8  -5.4870        2020   \n",
       "2  OFF-LA-10003223   11.784         3       0.2   4.2717        2020   \n",
       "3  OFF-ST-10002743  272.736         3       0.2 -64.7748        2020   \n",
       "4  OFF-AR-10003478   19.536         3       0.2   4.8840        2020   \n",
       "\n",
       "   Order_month  0rder_day 0rder_year_month      Cost  \n",
       "0            1          3          2020-01   10.8968  \n",
       "1            1          4          2020-01    9.0270  \n",
       "2            1          4          2020-01    7.5123  \n",
       "3            1          4          2020-01  337.5108  \n",
       "4            1          5          2020-01   14.6520  "
      ]
     },
     "execution_count": 41,
     "metadata": {},
     "output_type": "execute_result"
    }
   ],
   "source": [
    "# Enriquecemos los datos para tener un mejor análisis, agregando columnas respectivas de año, mes, día, mes-dia de la orden y el costo\n",
    "df['Order_Year'] = df['Order_Date'].dt.year\n",
    "df['Order_month'] = df['Order_Date'].dt.month\n",
    "df['0rder_day'] = df['Order_Date'].dt.day\n",
    "df['0rder_year_month'] = df['Order_Date'].dt.strftime('%Y-%m')\n",
    "df['Cost'] = df['Sales'] - df['Profit']\n",
    "\n",
    "df.head()"
   ]
  },
  {
   "cell_type": "markdown",
   "metadata": {},
   "source": [
    "### B) Tabla \"Product\""
   ]
  },
  {
   "cell_type": "markdown",
   "metadata": {},
   "source": [
    "1. Carga de datos"
   ]
  },
  {
   "cell_type": "code",
   "execution_count": 45,
   "metadata": {},
   "outputs": [
    {
     "data": {
      "text/html": [
       "<div>\n",
       "<style scoped>\n",
       "    .dataframe tbody tr th:only-of-type {\n",
       "        vertical-align: middle;\n",
       "    }\n",
       "\n",
       "    .dataframe tbody tr th {\n",
       "        vertical-align: top;\n",
       "    }\n",
       "\n",
       "    .dataframe thead th {\n",
       "        text-align: right;\n",
       "    }\n",
       "</style>\n",
       "<table border=\"1\" class=\"dataframe\">\n",
       "  <thead>\n",
       "    <tr style=\"text-align: right;\">\n",
       "      <th></th>\n",
       "      <th>Product_ID</th>\n",
       "      <th>Category</th>\n",
       "      <th>Sub-Category</th>\n",
       "      <th>Product_Name</th>\n",
       "    </tr>\n",
       "  </thead>\n",
       "  <tbody>\n",
       "    <tr>\n",
       "      <th>0</th>\n",
       "      <td>OFF-PA-10000174</td>\n",
       "      <td>Office Supplies</td>\n",
       "      <td>Paper</td>\n",
       "      <td>Message Book, Wirebound, Four 5 1/2\" X 4\" Form...</td>\n",
       "    </tr>\n",
       "    <tr>\n",
       "      <th>1</th>\n",
       "      <td>OFF-BI-10004094</td>\n",
       "      <td>Office Supplies</td>\n",
       "      <td>Binders</td>\n",
       "      <td>GBC Standard Plastic Binding Systems Combs</td>\n",
       "    </tr>\n",
       "    <tr>\n",
       "      <th>2</th>\n",
       "      <td>OFF-LA-10003223</td>\n",
       "      <td>Office Supplies</td>\n",
       "      <td>Labels</td>\n",
       "      <td>Avery 508</td>\n",
       "    </tr>\n",
       "    <tr>\n",
       "      <th>3</th>\n",
       "      <td>OFF-ST-10002743</td>\n",
       "      <td>Office Supplies</td>\n",
       "      <td>Storage</td>\n",
       "      <td>SAFCO Boltless Steel Shelving</td>\n",
       "    </tr>\n",
       "    <tr>\n",
       "      <th>4</th>\n",
       "      <td>OFF-AR-10003478</td>\n",
       "      <td>Office Supplies</td>\n",
       "      <td>Art</td>\n",
       "      <td>Avery Hi-Liter EverBold Pen Style Fluorescent ...</td>\n",
       "    </tr>\n",
       "  </tbody>\n",
       "</table>\n",
       "</div>"
      ],
      "text/plain": [
       "        Product_ID         Category Sub-Category  \\\n",
       "0  OFF-PA-10000174  Office Supplies        Paper   \n",
       "1  OFF-BI-10004094  Office Supplies      Binders   \n",
       "2  OFF-LA-10003223  Office Supplies       Labels   \n",
       "3  OFF-ST-10002743  Office Supplies      Storage   \n",
       "4  OFF-AR-10003478  Office Supplies          Art   \n",
       "\n",
       "                                        Product_Name  \n",
       "0  Message Book, Wirebound, Four 5 1/2\" X 4\" Form...  \n",
       "1         GBC Standard Plastic Binding Systems Combs  \n",
       "2                                          Avery 508  \n",
       "3                      SAFCO Boltless Steel Shelving  \n",
       "4  Avery Hi-Liter EverBold Pen Style Fluorescent ...  "
      ]
     },
     "execution_count": 45,
     "metadata": {},
     "output_type": "execute_result"
    }
   ],
   "source": [
    "# Cargar datos a un Dataframe\n",
    "dataset_path = \"202403-Summan-PruebaTécnica-AnalistaDatos.xlsx\"\n",
    "df_product = pd.read_excel(dataset_path, sheet_name= \"Product\")\n",
    "\n",
    "df_product.head()"
   ]
  },
  {
   "cell_type": "markdown",
   "metadata": {},
   "source": [
    "2. Exploración inicial"
   ]
  },
  {
   "cell_type": "code",
   "execution_count": 46,
   "metadata": {},
   "outputs": [
    {
     "name": "stdout",
     "output_type": "stream",
     "text": [
      "<class 'pandas.core.frame.DataFrame'>\n",
      "RangeIndex: 1894 entries, 0 to 1893\n",
      "Data columns (total 4 columns):\n",
      " #   Column        Non-Null Count  Dtype \n",
      "---  ------        --------------  ----- \n",
      " 0   Product_ID    1894 non-null   object\n",
      " 1   Category      1894 non-null   object\n",
      " 2   Sub-Category  1894 non-null   object\n",
      " 3   Product_Name  1894 non-null   object\n",
      "dtypes: object(4)\n",
      "memory usage: 59.3+ KB\n"
     ]
    }
   ],
   "source": [
    "df_product.info()"
   ]
  },
  {
   "cell_type": "markdown",
   "metadata": {},
   "source": [
    "* El dataset tiene 4 columnas, 1894 filas\n",
    "* No hay valores nulos\n",
    "* No hay que cambiar el formato de los datos "
   ]
  },
  {
   "cell_type": "code",
   "execution_count": 47,
   "metadata": {},
   "outputs": [
    {
     "name": "stdout",
     "output_type": "stream",
     "text": [
      "Filas duplicadas: 0\n"
     ]
    }
   ],
   "source": [
    "# Chequear si hay duplicados\n",
    "print(\"Filas duplicadas:\", df_product.duplicated().sum())"
   ]
  },
  {
   "cell_type": "markdown",
   "metadata": {},
   "source": [
    "* No hay duplicados\n",
    "* Al no haber datos numéricos, no se hace identificación de outliers ni el análisis descriptivo"
   ]
  },
  {
   "cell_type": "markdown",
   "metadata": {},
   "source": [
    "### C) Tabla \"Customer\""
   ]
  },
  {
   "cell_type": "markdown",
   "metadata": {},
   "source": [
    "1. Carga de datos"
   ]
  },
  {
   "cell_type": "code",
   "execution_count": 55,
   "metadata": {},
   "outputs": [
    {
     "data": {
      "text/html": [
       "<div>\n",
       "<style scoped>\n",
       "    .dataframe tbody tr th:only-of-type {\n",
       "        vertical-align: middle;\n",
       "    }\n",
       "\n",
       "    .dataframe tbody tr th {\n",
       "        vertical-align: top;\n",
       "    }\n",
       "\n",
       "    .dataframe thead th {\n",
       "        text-align: right;\n",
       "    }\n",
       "</style>\n",
       "<table border=\"1\" class=\"dataframe\">\n",
       "  <thead>\n",
       "    <tr style=\"text-align: right;\">\n",
       "      <th></th>\n",
       "      <th>Customer_ID</th>\n",
       "      <th>Customer_Name</th>\n",
       "      <th>monthly_salary</th>\n",
       "      <th>age</th>\n",
       "      <th>marital_status [1:married/ 0:Single]</th>\n",
       "      <th>credit score</th>\n",
       "    </tr>\n",
       "  </thead>\n",
       "  <tbody>\n",
       "    <tr>\n",
       "      <th>0</th>\n",
       "      <td>AA-10315</td>\n",
       "      <td>Alex Avila</td>\n",
       "      <td>6349</td>\n",
       "      <td>32</td>\n",
       "      <td>1</td>\n",
       "      <td>500</td>\n",
       "    </tr>\n",
       "    <tr>\n",
       "      <th>1</th>\n",
       "      <td>AA-10375</td>\n",
       "      <td>Allen Armold</td>\n",
       "      <td>5374</td>\n",
       "      <td>26</td>\n",
       "      <td>0</td>\n",
       "      <td>630</td>\n",
       "    </tr>\n",
       "    <tr>\n",
       "      <th>2</th>\n",
       "      <td>AA-10480</td>\n",
       "      <td>Andrew Allen</td>\n",
       "      <td>9611</td>\n",
       "      <td>44</td>\n",
       "      <td>1</td>\n",
       "      <td>780</td>\n",
       "    </tr>\n",
       "    <tr>\n",
       "      <th>3</th>\n",
       "      <td>AA-10645</td>\n",
       "      <td>Anna Andreadi</td>\n",
       "      <td>7025</td>\n",
       "      <td>43</td>\n",
       "      <td>1</td>\n",
       "      <td>450</td>\n",
       "    </tr>\n",
       "    <tr>\n",
       "      <th>4</th>\n",
       "      <td>AB-10015</td>\n",
       "      <td>Aaron Bergman</td>\n",
       "      <td>3331</td>\n",
       "      <td>28</td>\n",
       "      <td>1</td>\n",
       "      <td>490</td>\n",
       "    </tr>\n",
       "  </tbody>\n",
       "</table>\n",
       "</div>"
      ],
      "text/plain": [
       "  Customer_ID  Customer_Name monthly_salary  age  \\\n",
       "0    AA-10315     Alex Avila           6349   32   \n",
       "1    AA-10375   Allen Armold           5374   26   \n",
       "2    AA-10480   Andrew Allen           9611   44   \n",
       "3    AA-10645  Anna Andreadi           7025   43   \n",
       "4    AB-10015  Aaron Bergman           3331   28   \n",
       "\n",
       "  marital_status [1:married/ 0:Single]  credit score  \n",
       "0                                    1           500  \n",
       "1                                    0           630  \n",
       "2                                    1           780  \n",
       "3                                    1           450  \n",
       "4                                    1           490  "
      ]
     },
     "execution_count": 55,
     "metadata": {},
     "output_type": "execute_result"
    }
   ],
   "source": [
    "# Cargar datos a un Dataframe\n",
    "dataset_path = \"202403-Summan-PruebaTécnica-AnalistaDatos.xlsx\"\n",
    "df_customer = pd.read_excel(dataset_path, sheet_name= \"Customer\")\n",
    "\n",
    "df_customer.head()"
   ]
  },
  {
   "cell_type": "markdown",
   "metadata": {},
   "source": [
    "2. Exploración inicial"
   ]
  },
  {
   "cell_type": "code",
   "execution_count": 57,
   "metadata": {},
   "outputs": [
    {
     "name": "stdout",
     "output_type": "stream",
     "text": [
      "<class 'pandas.core.frame.DataFrame'>\n",
      "RangeIndex: 804 entries, 0 to 803\n",
      "Data columns (total 6 columns):\n",
      " #   Column                                Non-Null Count  Dtype \n",
      "---  ------                                --------------  ----- \n",
      " 0   Customer_ID                           804 non-null    object\n",
      " 1   Customer_Name                         804 non-null    object\n",
      " 2   monthly_salary                        804 non-null    object\n",
      " 3   age                                   804 non-null    int64 \n",
      " 4   marital_status [1:married/ 0:Single]  804 non-null    object\n",
      " 5   credit score                          804 non-null    int64 \n",
      "dtypes: int64(2), object(4)\n",
      "memory usage: 37.8+ KB\n"
     ]
    }
   ],
   "source": [
    "df_customer.info()"
   ]
  },
  {
   "cell_type": "markdown",
   "metadata": {},
   "source": [
    "* El dataset tiene 6 columnas y 804 filas\n",
    "* No hay valores nulos\n",
    "* La columna \"monthly_salary\" no se reconoció como dato numérico, lo que puede significar que hay uno o varios datos de otro tipo\n",
    "* La columna \"marital_status\" no se reconoció como dato numérico, lo que puede significar que hay uno o varios datos de otro tipo\n"
   ]
  },
  {
   "cell_type": "markdown",
   "metadata": {},
   "source": [
    "3. Limpieza de datos"
   ]
  },
  {
   "cell_type": "code",
   "execution_count": 58,
   "metadata": {},
   "outputs": [
    {
     "name": "stdout",
     "output_type": "stream",
     "text": [
      "Filas duplicadas: 0\n"
     ]
    }
   ],
   "source": [
    "#Chequeo de duplicados\n",
    "print(\"Filas duplicadas:\", df_customer.duplicated().sum())"
   ]
  },
  {
   "cell_type": "code",
   "execution_count": 59,
   "metadata": {},
   "outputs": [
    {
     "name": "stdout",
     "output_type": "stream",
     "text": [
      "Valores unicos: [6349 5374 9611 7025 3331 8511 7199 7838 6957 8601 4338 7262 3924 3157\n",
      " 4903 4505 2101 9892 2676 4242 2166 8311 8500 8893 3625 5443 2259 6300\n",
      " 6721 6731 3177 4014 3191 5759 9727 2696 3935 2853 9281 9559 9915 5945\n",
      " 7165 8444 8034 8795 6865 7486 2982 7255 7195 7472 6855 7293 7619 9563\n",
      " 8295 6944 4481 4493 6343 9983 4876 3952 8339 4310 8361 7626 8553 2093\n",
      " 8059 3608 4351 4982 5704 2121 7876 8699 4036 5392 4974 9083 8390 8937\n",
      " 2344 6206 6172 8502 3370 6234 2307 6609 5495 4392 9465 9111 7685 7238\n",
      " 5455 9565 5603 9568 9649 9558 8104 8042 5513 3906 2007 6215 4411 3130\n",
      " 9945 6767 5967 2212 5046 7553 9857 7503 5245 5128 5635 9244 8382 3188\n",
      " 2350 8582 2081 7895 6194 3614 8136 2866 5708 8656 9639 9584 9908 6582\n",
      " 2067 7142 8931 7749 6193 7200 7640 5819 9525 2339 3479 2509 5842 6973\n",
      " 4037 4006 3335 2642 4569 5660 7454 6367 'x' 4537 6637 4722 4489 6031 5315\n",
      " 5483 7577 4233 3673 5038 6089 9730 3496 8723 5032 7128 5969 7688 2463\n",
      " 9198 3292 8572 9932 4576 6524 4352 8203 7493 2231 7700 3634 7153 3607\n",
      " 2220 4270 7406 9099 8342 7926 6017 5642 4749 3023 9580 9768 4909 4103\n",
      " 4733 3473 9922 4542 3036 8091 5710 3899 6399 2506 5091 5426 8416 5231\n",
      " 5052 9298 9124 3816 4727 9373 5169 7184 9790 6073 8504 5558 6679 4922\n",
      " 8533 4219 4329 6291 8391 5042 8814 7561 6219 3047 4797 5494 8552 5668\n",
      " 8494 4649 9003 7578 5296 9604 5883 2047 7940 6305 7943 5276 7899 2970\n",
      " 3758 3014 2868 2772 4499 9665 7434 5540 3213 5755 8733 6336 5364 8629\n",
      " 9520 3945 2411 4520 7411 8894 5607 2615 2581 8949 4523 2534 5493 7916\n",
      " 3043 7448 5458 2992 6301 5950 6700 9784 6113 3340 7977 7753 2688 8543\n",
      " 3433 8700 8739 7362 6528 5399 7779 2788 5824 6920 9820 6047 5853 2064\n",
      " 9990 9552 2298 2883 3285 8191 2639 5737 7283 7395 3196 4443 7311 8527\n",
      " 5410 8323 7224 6648 8830 6287 3764 3542 4304 9308 7485 5918 7250 9980\n",
      " 2833 3713 4182 4017 9806 3569 4115 5763 2213 3627 8242 2555 2414 8459\n",
      " 2743 9653 2186 7053 3588 2201 4389 4296 2005 9829 3355 4522 2127 7018\n",
      " 3475 9946 6509 2821 2123 3519 10000 4670 7285 5563 4993 8741 4230 3377\n",
      " 3174 2971 7482 9940 3218 5221 7111 5899 2899 2250 6674 6205 4630 5332\n",
      " 6562 5906 8984 8621 8762 4679 5869 5618 8963 7804 9087 7569 3296 5808\n",
      " 4260 7036 7339 2723 2636 4941 2838 3245 3015 3021 7177 8934 5255 3545\n",
      " 9336 3964 9400 6067 9884 3950 7299 6461 5069 5232 3418 8158 6796 5249\n",
      " 3183 8800 9203 6782 7333 6691 2644 3654 4160 2629 7524 9119 9692 3878\n",
      " 2367 8209 2287 4376 4373 6828 6135 4222 8548 6937 8555 3422 6388 7241\n",
      " 6639 2180 9136 6354 8681 8111 4261 3578 9521 6087 4586 6427 6072 5162\n",
      " 9943 9114 3209 2784 4232 9830 4193 4369 2748 5858 5644 4498 8577 7086\n",
      " 6007 9276 7537 2994 7112 9131 5705 8905 8818 2360 5797 4957 3455 8353\n",
      " 8503 3526 4009 2984 2328 5478 7490 2489 8127 4528 9589 3017 8702 8023\n",
      " 6289 6441 6709 2919 6120 6127 6676 9060 3649 9948 8171 6227 5900 7425\n",
      " 6028 2704 7812 2706 4504 8590 2390 2888 2451 4664 4446 3631 5035 6926\n",
      " 3332 4848 2918 6417 7817 6583 6840 5472 4979 7372 5184 5672 5682 9421\n",
      " 4363 8757 8290 3744 8122 7120 7803 4085 8325 5520 6789 7343 8121 8685\n",
      " 9654 7183 2648 6638 6874 4691 8520 8907 7570 5381 3194 4213 9695 6581\n",
      " 6545 4133 5367 7473 6523 2519 5745 6003 8690 5225 8593 9230 7234 6376\n",
      " 9965 6062 5329 5048 8320 6665 2102 8985 2388 5152 6538 3259 9357 4375\n",
      " 6112 6373 8480 8961 4662 2055 3425 6817 9515 7254 4927 7635 8883 8939\n",
      " 4847 5171 2549 7509 5306 7098 7874 8871 7911 6290 8701 5822 2513 4705\n",
      " 8990 8451 3178 7955 9620 6092 6854 6625 8411 9814 5246 3301 5057 2333\n",
      " 7119 5752 9972 6785 5775 4447 8144 9993 4831 2600 3584 4495 4781 3134\n",
      " 3910 3312 2999 5163 8001 5103 8318 9529 6134 8580 4946 3904 7630 6693\n",
      " 4885 9953 7105 4249 2496 2444 8053 4973 6843 8955 6760 2579 3870 6438\n",
      " 6168 8676 4330 9056 7730 3012 7879 9709 7944 5514 4265 8662 2571 5325\n",
      " 4723 6832 4452 4839 5247 2162 9761 3751 2046 9641 6935 6445 7354 7658\n",
      " 4286 2288 5661 4823 5070 7597 3255 6447 4381 9212 4343 2924 7919 9887\n",
      " 3158 8112 6650 2757 6506 8011 4408 8740]\n"
     ]
    }
   ],
   "source": [
    "# Revisión columna \"monthly_salary\"\n",
    "print(\"Valores unicos:\", df_customer[\"monthly_salary\"].unique())"
   ]
  },
  {
   "cell_type": "code",
   "execution_count": 68,
   "metadata": {},
   "outputs": [
    {
     "name": "stdout",
     "output_type": "stream",
     "text": [
      "Media salario: 6029.302615193026\n",
      "Mediana salario: 6067.0\n"
     ]
    }
   ],
   "source": [
    "# Se observa que hay un dato no numérico 'x'\n",
    "# Procedemos a reemplazarlo con la mediana de los salarios\n",
    "df_customer[\"monthly_salary\"] = df_customer[\"monthly_salary\"].replace(\"x\", np.nan)\n",
    "\n",
    "media_salario = df_customer[\"monthly_salary\"].mean()\n",
    "mediana_salario = df_customer[\"monthly_salary\"].median()\n",
    "print(\"Media salario:\", media_salario)\n",
    "print(\"Mediana salario:\", mediana_salario)\n",
    "\n",
    "df_customer[\"monthly_salary\"] = df_customer[\"monthly_salary\"].fillna(mediana_salario)"
   ]
  },
  {
   "cell_type": "code",
   "execution_count": 75,
   "metadata": {},
   "outputs": [
    {
     "name": "stdout",
     "output_type": "stream",
     "text": [
      "Valores unicos en columa marital_status: [1 0 'f' 'x' 'mm']\n"
     ]
    }
   ],
   "source": [
    "# Revision columna \"marital_status\"\n",
    "print(\"Valores unicos en columa marital_status:\", df_customer[\"marital_status [1:married/ 0:Single]\"].unique())"
   ]
  },
  {
   "cell_type": "markdown",
   "metadata": {},
   "source": [
    "* Solo deberían haber dos opciones de datos: 1 o 0\n",
    "* Por la naturaleza de la columna, se procede a eliminar aquellas filas que no tienen 0 o 1"
   ]
  },
  {
   "cell_type": "code",
   "execution_count": 76,
   "metadata": {},
   "outputs": [
    {
     "name": "stdout",
     "output_type": "stream",
     "text": [
      "Valores unicos en columa marital_status: [1 0]\n"
     ]
    }
   ],
   "source": [
    "df_customer_filtrado = df_customer[df_customer[\"marital_status [1:married/ 0:Single]\"].astype(str).isin(['0', '1'])]\n",
    "print(\"Valores unicos en columa marital_status:\", df_customer_filtrado[\"marital_status [1:married/ 0:Single]\"].unique())"
   ]
  },
  {
   "cell_type": "markdown",
   "metadata": {},
   "source": [
    "4. Estadística descriptiva"
   ]
  },
  {
   "cell_type": "code",
   "execution_count": 77,
   "metadata": {},
   "outputs": [
    {
     "data": {
      "text/html": [
       "<div>\n",
       "<style scoped>\n",
       "    .dataframe tbody tr th:only-of-type {\n",
       "        vertical-align: middle;\n",
       "    }\n",
       "\n",
       "    .dataframe tbody tr th {\n",
       "        vertical-align: top;\n",
       "    }\n",
       "\n",
       "    .dataframe thead th {\n",
       "        text-align: right;\n",
       "    }\n",
       "</style>\n",
       "<table border=\"1\" class=\"dataframe\">\n",
       "  <thead>\n",
       "    <tr style=\"text-align: right;\">\n",
       "      <th></th>\n",
       "      <th>monthly_salary</th>\n",
       "      <th>age</th>\n",
       "      <th>credit score</th>\n",
       "    </tr>\n",
       "  </thead>\n",
       "  <tbody>\n",
       "    <tr>\n",
       "      <th>count</th>\n",
       "      <td>799.000000</td>\n",
       "      <td>799.000000</td>\n",
       "      <td>799.000000</td>\n",
       "    </tr>\n",
       "    <tr>\n",
       "      <th>mean</th>\n",
       "      <td>6030.841051</td>\n",
       "      <td>38.381727</td>\n",
       "      <td>557.534418</td>\n",
       "    </tr>\n",
       "    <tr>\n",
       "      <th>std</th>\n",
       "      <td>2297.359237</td>\n",
       "      <td>10.918275</td>\n",
       "      <td>148.950560</td>\n",
       "    </tr>\n",
       "    <tr>\n",
       "      <th>min</th>\n",
       "      <td>2005.000000</td>\n",
       "      <td>26.000000</td>\n",
       "      <td>300.000000</td>\n",
       "    </tr>\n",
       "    <tr>\n",
       "      <th>25%</th>\n",
       "      <td>4203.000000</td>\n",
       "      <td>32.000000</td>\n",
       "      <td>420.000000</td>\n",
       "    </tr>\n",
       "    <tr>\n",
       "      <th>50%</th>\n",
       "      <td>6067.000000</td>\n",
       "      <td>38.000000</td>\n",
       "      <td>560.000000</td>\n",
       "    </tr>\n",
       "    <tr>\n",
       "      <th>75%</th>\n",
       "      <td>7966.000000</td>\n",
       "      <td>44.000000</td>\n",
       "      <td>690.000000</td>\n",
       "    </tr>\n",
       "    <tr>\n",
       "      <th>max</th>\n",
       "      <td>10000.000000</td>\n",
       "      <td>260.000000</td>\n",
       "      <td>800.000000</td>\n",
       "    </tr>\n",
       "  </tbody>\n",
       "</table>\n",
       "</div>"
      ],
      "text/plain": [
       "       monthly_salary         age  credit score\n",
       "count      799.000000  799.000000    799.000000\n",
       "mean      6030.841051   38.381727    557.534418\n",
       "std       2297.359237   10.918275    148.950560\n",
       "min       2005.000000   26.000000    300.000000\n",
       "25%       4203.000000   32.000000    420.000000\n",
       "50%       6067.000000   38.000000    560.000000\n",
       "75%       7966.000000   44.000000    690.000000\n",
       "max      10000.000000  260.000000    800.000000"
      ]
     },
     "execution_count": 77,
     "metadata": {},
     "output_type": "execute_result"
    }
   ],
   "source": [
    "df_customer_filtrado.describe()"
   ]
  },
  {
   "cell_type": "markdown",
   "metadata": {},
   "source": [
    "* El valor máximo de la columna \"Age\" es 260, lo cual es un error"
   ]
  },
  {
   "cell_type": "code",
   "execution_count": 80,
   "metadata": {},
   "outputs": [
    {
     "name": "stdout",
     "output_type": "stream",
     "text": [
      "Valores unicos en columa Age: [ 32  26  44  43  28  41  47  50  35  36  42  27  31  30  49  34  45  48\n",
      "  46  39  33  38  37  29  40 115 260]\n",
      "Mediana edad: 38.0\n"
     ]
    }
   ],
   "source": [
    "# Revisión columna \"age\"\n",
    "print(\"Valores unicos en columa Age:\", df_customer_filtrado[\"age\"].unique())\n",
    "mediana_edad = df_customer_filtrado[\"age\"].median()\n",
    "print(\"Mediana edad:\", mediana_edad)"
   ]
  },
  {
   "cell_type": "code",
   "execution_count": 85,
   "metadata": {},
   "outputs": [
    {
     "name": "stdout",
     "output_type": "stream",
     "text": [
      "Valores unicos en columa Age: [ 32  26  44  43  28  41  47  50  35  36  42  27  31  30  49  34  45  48\n",
      "  46  39  33  38  37  29  40 115]\n"
     ]
    }
   ],
   "source": [
    "#Procedemos a reemplazar dicho dato erroneo\n",
    "df_customer_filtrado.loc[df_customer_filtrado[\"age\"] == 260, \"age\"] = mediana_edad\n",
    "print(\"Valores unicos en columa Age:\", df_customer_filtrado[\"age\"].unique())"
   ]
  },
  {
   "cell_type": "code",
   "execution_count": 86,
   "metadata": {},
   "outputs": [
    {
     "data": {
      "text/html": [
       "<div>\n",
       "<style scoped>\n",
       "    .dataframe tbody tr th:only-of-type {\n",
       "        vertical-align: middle;\n",
       "    }\n",
       "\n",
       "    .dataframe tbody tr th {\n",
       "        vertical-align: top;\n",
       "    }\n",
       "\n",
       "    .dataframe thead th {\n",
       "        text-align: right;\n",
       "    }\n",
       "</style>\n",
       "<table border=\"1\" class=\"dataframe\">\n",
       "  <thead>\n",
       "    <tr style=\"text-align: right;\">\n",
       "      <th></th>\n",
       "      <th>monthly_salary</th>\n",
       "      <th>age</th>\n",
       "      <th>credit score</th>\n",
       "    </tr>\n",
       "  </thead>\n",
       "  <tbody>\n",
       "    <tr>\n",
       "      <th>count</th>\n",
       "      <td>799.000000</td>\n",
       "      <td>799.000000</td>\n",
       "      <td>799.000000</td>\n",
       "    </tr>\n",
       "    <tr>\n",
       "      <th>mean</th>\n",
       "      <td>6030.841051</td>\n",
       "      <td>38.103880</td>\n",
       "      <td>557.534418</td>\n",
       "    </tr>\n",
       "    <tr>\n",
       "      <th>std</th>\n",
       "      <td>2297.359237</td>\n",
       "      <td>7.588441</td>\n",
       "      <td>148.950560</td>\n",
       "    </tr>\n",
       "    <tr>\n",
       "      <th>min</th>\n",
       "      <td>2005.000000</td>\n",
       "      <td>26.000000</td>\n",
       "      <td>300.000000</td>\n",
       "    </tr>\n",
       "    <tr>\n",
       "      <th>25%</th>\n",
       "      <td>4203.000000</td>\n",
       "      <td>32.000000</td>\n",
       "      <td>420.000000</td>\n",
       "    </tr>\n",
       "    <tr>\n",
       "      <th>50%</th>\n",
       "      <td>6067.000000</td>\n",
       "      <td>38.000000</td>\n",
       "      <td>560.000000</td>\n",
       "    </tr>\n",
       "    <tr>\n",
       "      <th>75%</th>\n",
       "      <td>7966.000000</td>\n",
       "      <td>44.000000</td>\n",
       "      <td>690.000000</td>\n",
       "    </tr>\n",
       "    <tr>\n",
       "      <th>max</th>\n",
       "      <td>10000.000000</td>\n",
       "      <td>115.000000</td>\n",
       "      <td>800.000000</td>\n",
       "    </tr>\n",
       "  </tbody>\n",
       "</table>\n",
       "</div>"
      ],
      "text/plain": [
       "       monthly_salary         age  credit score\n",
       "count      799.000000  799.000000    799.000000\n",
       "mean      6030.841051   38.103880    557.534418\n",
       "std       2297.359237    7.588441    148.950560\n",
       "min       2005.000000   26.000000    300.000000\n",
       "25%       4203.000000   32.000000    420.000000\n",
       "50%       6067.000000   38.000000    560.000000\n",
       "75%       7966.000000   44.000000    690.000000\n",
       "max      10000.000000  115.000000    800.000000"
      ]
     },
     "execution_count": 86,
     "metadata": {},
     "output_type": "execute_result"
    }
   ],
   "source": [
    "df_customer_filtrado.describe()"
   ]
  },
  {
   "cell_type": "markdown",
   "metadata": {},
   "source": [
    "### D) Tabla \"Regional_Manager\""
   ]
  },
  {
   "cell_type": "markdown",
   "metadata": {},
   "source": [
    "1. Carga de datos"
   ]
  },
  {
   "cell_type": "code",
   "execution_count": 88,
   "metadata": {},
   "outputs": [
    {
     "data": {
      "text/html": [
       "<div>\n",
       "<style scoped>\n",
       "    .dataframe tbody tr th:only-of-type {\n",
       "        vertical-align: middle;\n",
       "    }\n",
       "\n",
       "    .dataframe tbody tr th {\n",
       "        vertical-align: top;\n",
       "    }\n",
       "\n",
       "    .dataframe thead th {\n",
       "        text-align: right;\n",
       "    }\n",
       "</style>\n",
       "<table border=\"1\" class=\"dataframe\">\n",
       "  <thead>\n",
       "    <tr style=\"text-align: right;\">\n",
       "      <th></th>\n",
       "      <th>Regional_Manager</th>\n",
       "      <th>Region</th>\n",
       "    </tr>\n",
       "  </thead>\n",
       "  <tbody>\n",
       "    <tr>\n",
       "      <th>0</th>\n",
       "      <td>Sadie Pawthorne</td>\n",
       "      <td>Wes t</td>\n",
       "    </tr>\n",
       "    <tr>\n",
       "      <th>1</th>\n",
       "      <td>Chuck Magee</td>\n",
       "      <td>east</td>\n",
       "    </tr>\n",
       "    <tr>\n",
       "      <th>2</th>\n",
       "      <td>Roxanne Rodriguez</td>\n",
       "      <td>cenntral</td>\n",
       "    </tr>\n",
       "    <tr>\n",
       "      <th>3</th>\n",
       "      <td>Fred Suzuki</td>\n",
       "      <td>south</td>\n",
       "    </tr>\n",
       "  </tbody>\n",
       "</table>\n",
       "</div>"
      ],
      "text/plain": [
       "    Regional_Manager    Region\n",
       "0    Sadie Pawthorne     Wes t\n",
       "1        Chuck Magee      east\n",
       "2  Roxanne Rodriguez  cenntral\n",
       "3        Fred Suzuki     south"
      ]
     },
     "execution_count": 88,
     "metadata": {},
     "output_type": "execute_result"
    }
   ],
   "source": [
    "# Cargar datos a un Dataframe\n",
    "dataset_path = \"202403-Summan-PruebaTécnica-AnalistaDatos.xlsx\"\n",
    "df_manager = pd.read_excel(dataset_path, sheet_name = \"Regional_Manager\")\n",
    "\n",
    "df_manager.head()"
   ]
  },
  {
   "cell_type": "markdown",
   "metadata": {},
   "source": [
    "2. Exploración inicial"
   ]
  },
  {
   "cell_type": "code",
   "execution_count": 89,
   "metadata": {},
   "outputs": [
    {
     "name": "stdout",
     "output_type": "stream",
     "text": [
      "<class 'pandas.core.frame.DataFrame'>\n",
      "RangeIndex: 4 entries, 0 to 3\n",
      "Data columns (total 2 columns):\n",
      " #   Column            Non-Null Count  Dtype \n",
      "---  ------            --------------  ----- \n",
      " 0   Regional_Manager  4 non-null      object\n",
      " 1   Region            4 non-null      object\n",
      "dtypes: object(2)\n",
      "memory usage: 196.0+ bytes\n"
     ]
    }
   ],
   "source": [
    "df_manager.info()"
   ]
  },
  {
   "cell_type": "code",
   "execution_count": 90,
   "metadata": {},
   "outputs": [
    {
     "data": {
      "text/html": [
       "<div>\n",
       "<style scoped>\n",
       "    .dataframe tbody tr th:only-of-type {\n",
       "        vertical-align: middle;\n",
       "    }\n",
       "\n",
       "    .dataframe tbody tr th {\n",
       "        vertical-align: top;\n",
       "    }\n",
       "\n",
       "    .dataframe thead th {\n",
       "        text-align: right;\n",
       "    }\n",
       "</style>\n",
       "<table border=\"1\" class=\"dataframe\">\n",
       "  <thead>\n",
       "    <tr style=\"text-align: right;\">\n",
       "      <th></th>\n",
       "      <th>Regional_Manager</th>\n",
       "      <th>Region</th>\n",
       "    </tr>\n",
       "  </thead>\n",
       "  <tbody>\n",
       "    <tr>\n",
       "      <th>0</th>\n",
       "      <td>Sadie Pawthorne</td>\n",
       "      <td>west</td>\n",
       "    </tr>\n",
       "    <tr>\n",
       "      <th>1</th>\n",
       "      <td>Chuck Magee</td>\n",
       "      <td>east</td>\n",
       "    </tr>\n",
       "    <tr>\n",
       "      <th>2</th>\n",
       "      <td>Roxanne Rodriguez</td>\n",
       "      <td>cenntral</td>\n",
       "    </tr>\n",
       "    <tr>\n",
       "      <th>3</th>\n",
       "      <td>Fred Suzuki</td>\n",
       "      <td>south</td>\n",
       "    </tr>\n",
       "  </tbody>\n",
       "</table>\n",
       "</div>"
      ],
      "text/plain": [
       "    Regional_Manager    Region\n",
       "0    Sadie Pawthorne      west\n",
       "1        Chuck Magee      east\n",
       "2  Roxanne Rodriguez  cenntral\n",
       "3        Fred Suzuki     south"
      ]
     },
     "execution_count": 90,
     "metadata": {},
     "output_type": "execute_result"
    }
   ],
   "source": [
    "# El unico error a corregir es la palabra \"West\" que tiene un espacio e inicial mayuscula cuando los demas datos no\n",
    "df_manager.loc[df_manager[\"Region\"] == \"Wes t\", \"Region\"] = \"west\"\n",
    "df_manager.head()"
   ]
  },
  {
   "cell_type": "markdown",
   "metadata": {},
   "source": [
    "### E) Tabla \"Returns\""
   ]
  },
  {
   "cell_type": "markdown",
   "metadata": {},
   "source": [
    "1. Carga de datos"
   ]
  },
  {
   "cell_type": "code",
   "execution_count": 91,
   "metadata": {},
   "outputs": [
    {
     "data": {
      "text/html": [
       "<div>\n",
       "<style scoped>\n",
       "    .dataframe tbody tr th:only-of-type {\n",
       "        vertical-align: middle;\n",
       "    }\n",
       "\n",
       "    .dataframe tbody tr th {\n",
       "        vertical-align: top;\n",
       "    }\n",
       "\n",
       "    .dataframe thead th {\n",
       "        text-align: right;\n",
       "    }\n",
       "</style>\n",
       "<table border=\"1\" class=\"dataframe\">\n",
       "  <thead>\n",
       "    <tr style=\"text-align: right;\">\n",
       "      <th></th>\n",
       "      <th>Returned</th>\n",
       "      <th>Order_ID</th>\n",
       "    </tr>\n",
       "  </thead>\n",
       "  <tbody>\n",
       "    <tr>\n",
       "      <th>0</th>\n",
       "      <td>Yes</td>\n",
       "      <td>US-2020-100762</td>\n",
       "    </tr>\n",
       "    <tr>\n",
       "      <th>1</th>\n",
       "      <td>Yes</td>\n",
       "      <td>US-2020-100762</td>\n",
       "    </tr>\n",
       "    <tr>\n",
       "      <th>2</th>\n",
       "      <td>Yes</td>\n",
       "      <td>US-2020-100762</td>\n",
       "    </tr>\n",
       "    <tr>\n",
       "      <th>3</th>\n",
       "      <td>Yes</td>\n",
       "      <td>US-2020-100762</td>\n",
       "    </tr>\n",
       "    <tr>\n",
       "      <th>4</th>\n",
       "      <td>Yes</td>\n",
       "      <td>US-2020-100867</td>\n",
       "    </tr>\n",
       "  </tbody>\n",
       "</table>\n",
       "</div>"
      ],
      "text/plain": [
       "  Returned        Order_ID\n",
       "0      Yes  US-2020-100762\n",
       "1      Yes  US-2020-100762\n",
       "2      Yes  US-2020-100762\n",
       "3      Yes  US-2020-100762\n",
       "4      Yes  US-2020-100867"
      ]
     },
     "execution_count": 91,
     "metadata": {},
     "output_type": "execute_result"
    }
   ],
   "source": [
    "# Cargar datos a un Dataframe\n",
    "dataset_path = \"202403-Summan-PruebaTécnica-AnalistaDatos.xlsx\"\n",
    "df_returns = pd.read_excel(dataset_path, sheet_name = \"Returns\")\n",
    "\n",
    "df_returns.head()"
   ]
  },
  {
   "cell_type": "markdown",
   "metadata": {},
   "source": [
    "2. Exploracion inicial"
   ]
  },
  {
   "cell_type": "code",
   "execution_count": 95,
   "metadata": {},
   "outputs": [
    {
     "name": "stdout",
     "output_type": "stream",
     "text": [
      "<class 'pandas.core.frame.DataFrame'>\n",
      "RangeIndex: 800 entries, 0 to 799\n",
      "Data columns (total 2 columns):\n",
      " #   Column    Non-Null Count  Dtype \n",
      "---  ------    --------------  ----- \n",
      " 0   Returned  800 non-null    object\n",
      " 1   Order_ID  800 non-null    object\n",
      "dtypes: object(2)\n",
      "memory usage: 12.6+ KB\n"
     ]
    }
   ],
   "source": [
    "df_returns.info()"
   ]
  },
  {
   "cell_type": "markdown",
   "metadata": {},
   "source": [
    "* No hat valores nulos\n",
    "* Las dos columnas son tipo cadena\n",
    "* No se hace análisis estadistico"
   ]
  },
  {
   "cell_type": "code",
   "execution_count": 96,
   "metadata": {},
   "outputs": [
    {
     "name": "stdout",
     "output_type": "stream",
     "text": [
      "Valores unicos en columa Returned: ['Yes']\n"
     ]
    }
   ],
   "source": [
    "# Se chequea que la columna \"Returned\" contenga solo el valor \"Yes\"\n",
    "print(\"Valores unicos en columa Returned:\", df_returns[\"Returned\"].unique())\n"
   ]
  },
  {
   "cell_type": "markdown",
   "metadata": {},
   "source": [
    "### F) Exportación de los dataframes a nuevo archivo excel"
   ]
  },
  {
   "cell_type": "code",
   "execution_count": 97,
   "metadata": {},
   "outputs": [],
   "source": [
    "# Exportamos los DataFrames a un nuevo archivo Excel que contendrá las mismas tablas pero despues de la limpieza\n",
    "with pd.ExcelWriter(\"Cleaned_Dataset.xlsx\", engine='xlsxwriter') as writer:\n",
    "    df.to_excel(writer, sheet_name = \"Sales\", index = False)\n",
    "    df_product.to_excel(writer, sheet_name = \"Product\", index = False)\n",
    "    df_customer_filtrado.to_excel(writer, sheet_name = \"Customer\", index = False)\n",
    "    df_manager.to_excel(writer, sheet_name = \"Regional_Manager\", index = False)\n",
    "    df_returns.to_excel(writer, sheet_name = \"Returns\", index = False)"
   ]
  }
 ],
 "metadata": {
  "kernelspec": {
   "display_name": "Python 3",
   "language": "python",
   "name": "python3"
  },
  "language_info": {
   "codemirror_mode": {
    "name": "ipython",
    "version": 3
   },
   "file_extension": ".py",
   "mimetype": "text/x-python",
   "name": "python",
   "nbconvert_exporter": "python",
   "pygments_lexer": "ipython3",
   "version": "3.12.2"
  }
 },
 "nbformat": 4,
 "nbformat_minor": 2
}
